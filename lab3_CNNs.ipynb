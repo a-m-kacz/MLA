{
  "nbformat": 4,
  "nbformat_minor": 0,
  "metadata": {
    "colab": {
      "provenance": [],
      "include_colab_link": true
    },
    "kernelspec": {
      "name": "python3",
      "display_name": "Python 3"
    },
    "language_info": {
      "name": "python"
    },
    "accelerator": "GPU"
  },
  "cells": [
    {
      "cell_type": "markdown",
      "metadata": {
        "id": "view-in-github",
        "colab_type": "text"
      },
      "source": [
        "<a href=\"https://colab.research.google.com/github/a-m-kacz/MLA/blob/main/lab3_CNNs.ipynb\" target=\"_parent\"><img src=\"https://colab.research.google.com/assets/colab-badge.svg\" alt=\"Open In Colab\"/></a>"
      ]
    },
    {
      "cell_type": "markdown",
      "metadata": {
        "id": "796WOHUh5lOF"
      },
      "source": [
        "# Image Classification using advanced CNNs\n",
        "- we are going to use CIFAR-10 [dataset](https://www.cs.toronto.edu/~kriz/cifar.html) of 32x32 color images"
      ]
    },
    {
      "cell_type": "code",
      "metadata": {
        "id": "BfhWChzQmaaJ"
      },
      "source": [
        "import torch\n",
        "import torch.nn as nn\n",
        "import torch.nn.functional as F\n",
        "import torch.optim as optim\n",
        "import torchvision\n",
        "import torchvision.transforms as transforms\n",
        "import torchvision.datasets as datasets\n",
        "import torchvision.models as models\n",
        "\n",
        "import numpy as np\n",
        "\n",
        "import matplotlib.pyplot as plt\n",
        "plt.rcParams.update({'font.size': 14})\n",
        "\n",
        "model_args = {}\n",
        "# we will use batch size of 64 in Stochastic Gradient Descent (SGD) optimization of the network\n",
        "model_args['batch_size'] = 64 \n",
        "# learning rate is how fast it will descend\n",
        "model_args['lr'] = .05\n",
        "# SGD momentum (default: .5) momentum is a moving average of gradients (it helps to keep direction) \n",
        "model_args['momentum'] = .9\n",
        "# the number of epochs is the number of times you go through the full dataset\n",
        "model_args['weight_decay'] = 5.e-4\n",
        "model_args['epochs'] = 30"
      ],
      "execution_count": 1,
      "outputs": []
    },
    {
      "cell_type": "markdown",
      "metadata": {
        "id": "enkr1MTg5uW6"
      },
      "source": [
        "### Download CIFAR-10 dataset and define models\n",
        "Similar as with MNIST we use torchvision to download the data"
      ]
    },
    {
      "cell_type": "code",
      "metadata": {
        "colab": {
          "base_uri": "https://localhost:8080/"
        },
        "id": "YVnoNdKorEDe",
        "outputId": "b94f4815-9f4e-4474-9581-e0bdee5963f7"
      },
      "source": [
        "!rm -r ./data\n",
        "# normalize dataset\n",
        "mean = [0.485, 0.456, 0.406]\n",
        "std = [0.229, 0.224, 0.225]\n",
        "#mean = [.5, .5, .5]\n",
        "#std = [.5, .5, .5]\n",
        "transform = transforms.Compose([transforms.ToTensor(),transforms.Normalize(mean, std)])\n",
        "\n",
        "cifar10_train = datasets.CIFAR10(root='./data', train=True, download=True, transform=transform)\n",
        "# we divide this data into training and validation subsets\n",
        "train_subset, validation_subset = torch.utils.data.random_split(cifar10_train, [40000, 10000])\n",
        "test_subset = datasets.CIFAR10(root='./data', train=False, download=True, transform=transform)\n",
        "\n",
        "# subsample to speedup training (colab has notebook lifetime limit)\n",
        "train_subset = torch.utils.data.Subset(train_subset, range(20000))\n",
        "validation_subset = torch.utils.data.Subset(validation_subset, range(5000))\n",
        "test_subset = torch.utils.data.Subset(test_subset, range(5000))\n",
        "\n",
        "# define dataloaders\n",
        "loader_kwargs = {'batch_size': model_args['batch_size'], \n",
        "                 'num_workers': 2, \n",
        "                 'pin_memory': True, \n",
        "                 'shuffle': True}\n",
        "train_loader = torch.utils.data.DataLoader(train_subset, **loader_kwargs)\n",
        "validation_loader = torch.utils.data.DataLoader(validation_subset, **loader_kwargs)\n",
        "test_loader = torch.utils.data.DataLoader(test_subset, **loader_kwargs)\n",
        "\n",
        "classes = ('plane', 'car', 'bird', 'cat', 'deer', \n",
        "           'dog', 'frog', 'horse', 'ship', 'truck')"
      ],
      "execution_count": 2,
      "outputs": [
        {
          "output_type": "stream",
          "name": "stdout",
          "text": [
            "rm: cannot remove './data': No such file or directory\n",
            "Downloading https://www.cs.toronto.edu/~kriz/cifar-10-python.tar.gz to ./data/cifar-10-python.tar.gz\n"
          ]
        },
        {
          "output_type": "stream",
          "name": "stderr",
          "text": [
            "100%|██████████| 170498071/170498071 [00:07<00:00, 23540997.29it/s]\n"
          ]
        },
        {
          "output_type": "stream",
          "name": "stdout",
          "text": [
            "Extracting ./data/cifar-10-python.tar.gz to ./data\n",
            "Files already downloaded and verified\n"
          ]
        }
      ]
    },
    {
      "cell_type": "markdown",
      "metadata": {
        "id": "Ki6Yt0Ix5e61"
      },
      "source": [
        "Let's show some of the training images"
      ]
    },
    {
      "cell_type": "code",
      "metadata": {
        "colab": {
          "base_uri": "https://localhost:8080/",
          "height": 458
        },
        "id": "u6ABBbw7rSYv",
        "outputId": "cf2ef788-7268-443d-8f2a-d6862c1cca14"
      },
      "source": [
        "def imshow(img):\n",
        "    npimg = img.numpy()*std[0]+mean[0] # this should be done for each channel separately ;)\n",
        "    plt.imshow(np.transpose(npimg, (1,2,0)), interpolation='nearest')\n",
        "\n",
        "# get some random training images\n",
        "dataiter = iter(train_loader)\n",
        "images, _ = next(dataiter)\n",
        "\n",
        "# show images\n",
        "imshow(torchvision.utils.make_grid(images[:16], nrow=4))\n"
      ],
      "execution_count": 3,
      "outputs": [
        {
          "output_type": "stream",
          "name": "stderr",
          "text": [
            "WARNING:matplotlib.image:Clipping input data to the valid range for imshow with RGB data ([0..1] for floats or [0..255] for integers).\n"
          ]
        },
        {
          "output_type": "display_data",
          "data": {
            "text/plain": [
              "<Figure size 640x480 with 1 Axes>"
            ],
            "image/png": "[encoded data removed]"
          },
          "metadata": {}
        }
      ]
    },
    {
      "cell_type": "markdown",
      "metadata": {
        "id": "wFmOjuxx36Tr"
      },
      "source": [
        "Now define CNN models\n",
        "- VGG definition borrowed from *https://github.com/chengyangfu/pytorch-vgg-cifar10*\n"
      ]
    },
    {
      "cell_type": "code",
      "metadata": {
        "id": "LAgi8fU2rsJV"
      },
      "source": [
        "class SimpleCNN(nn.Module):\n",
        "    '''\n",
        "    simple CNN model\n",
        "    '''\n",
        "    def __init__(self):\n",
        "        super().__init__()\n",
        "        self.conv1 = nn.Conv2d(3, 6, 5)\n",
        "        self.pool = nn.MaxPool2d(2, 2)\n",
        "        self.conv2 = nn.Conv2d(6, 16, 5)\n",
        "        self.fc1 = nn.Linear(16 * 5 * 5, 120)\n",
        "        self.fc2 = nn.Linear(120, 80)\n",
        "        self.fc3 = nn.Linear(80, 10)\n",
        "\n",
        "    def forward(self, x):\n",
        "        x = self.pool(F.relu(self.conv1(x)))\n",
        "        x = self.pool(F.relu(self.conv2(x)))\n",
        "        x = x.view(-1, 16 * 5 * 5)\n",
        "        x = F.relu(self.fc1(x))\n",
        "        x = F.relu(self.fc2(x))\n",
        "        x = self.fc3(x)\n",
        "        return x\n",
        "\n",
        "class VGG(nn.Module):\n",
        "    '''\n",
        "    VGG model \n",
        "    '''\n",
        "    def __init__(self, features):\n",
        "        super(VGG, self).__init__()\n",
        "        self.features = features\n",
        "        self.classifier = nn.Sequential(\n",
        "            nn.Dropout(),\n",
        "            nn.Linear(512, 512),\n",
        "            nn.ReLU(True),\n",
        "            nn.Dropout(),\n",
        "            nn.Linear(512, 512),\n",
        "            nn.ReLU(True),\n",
        "            nn.Linear(512, 10),\n",
        "        )\n",
        "        # Initialize weights\n",
        "        for m in self.modules():\n",
        "            if isinstance(m, nn.Conv2d):\n",
        "                n = m.kernel_size[0] * m.kernel_size[1] * m.out_channels\n",
        "                m.weight.data.normal_(0, np.sqrt(2. / n))\n",
        "                m.bias.data.zero_()\n",
        "\n",
        "    def forward(self, x):\n",
        "        x = self.features(x)\n",
        "        x = x.view(x.size(0), -1)\n",
        "        x = self.classifier(x)\n",
        "        return x\n",
        "\n",
        "def make_layers(cfg, batch_norm=False):\n",
        "    layers = []\n",
        "    in_channels = 3\n",
        "    for v in cfg:\n",
        "        if v == 'M':\n",
        "            layers += [nn.MaxPool2d(kernel_size=2, stride=2)]\n",
        "        else:\n",
        "            conv2d = nn.Conv2d(in_channels, v, kernel_size=3, padding=1)\n",
        "            if batch_norm:\n",
        "                layers += [conv2d, nn.BatchNorm2d(v), nn.ReLU(inplace=True)]\n",
        "            else:\n",
        "                layers += [conv2d, nn.ReLU(inplace=True)]\n",
        "            in_channels = v\n",
        "    return nn.Sequential(*layers)\n",
        "\n",
        "vgg_cfg = {\n",
        "    'vgg11': [64, 'M', 128, 'M', 256, 256, 'M', 512, 512, 'M', 512, 512, 'M'],\n",
        "    'vgg13': [64, 64, 'M', 128, 128, 'M', 256, 256, 'M', 512, 512, 'M', 512, 512, 'M'],\n",
        "    'vgg16': [64, 64, 'M', 128, 128, 'M', 256, 256, 256, 'M', 512, 512, 512, 'M', 512, 512, 512, 'M'],\n",
        "    'vgg19': [64, 64, 'M', 128, 128, 'M', 256, 256, 256, 256, 'M', 512, 512, 512, 512, 'M', 512, 512, 512, 512, 'M'],\n",
        "    'vgg22': [64, 64, 'M', 128, 128, 'M', 256, 256, 256, 256, 256, 'M', 512, 512, 512, 512, 512, 'M', 512, 512, 512, 512, 512, 'M']\n",
        "}"
      ],
      "execution_count": 4,
      "outputs": []
    },
    {
      "cell_type": "markdown",
      "metadata": {
        "id": "sayQ1miv9lJM"
      },
      "source": [
        "Define util methods"
      ]
    },
    {
      "cell_type": "code",
      "metadata": {
        "id": "NgMtomaD-E1D"
      },
      "source": [
        "def train(model, device, train_loader, optimizer, criterion, epoch_number):\n",
        "    model.train()\n",
        "    train_loss = 0.\n",
        "    # get subsequent batches over the data in a given epoch\n",
        "    for batch_idx, (data, target) in enumerate(train_loader):\n",
        "        # send data tensors to GPU (or CPU)\n",
        "        data, target = data.to(device), target.to(device)\n",
        "        # this will zero out the gradients for this batch\n",
        "        optimizer.zero_grad()\n",
        "        # this will execute the forward() function\n",
        "        output = model(data)\n",
        "        # calculate loss using c\n",
        "        loss = criterion(output, target)\n",
        "        # backpropagate the loss\n",
        "        loss.backward()\n",
        "        # update the model weights (with assumed learning rate)\n",
        "        optimizer.step()\n",
        "        train_loss += loss.item()\n",
        "    print('Train Epoch: {}'.format(epoch_number))\n",
        "    train_loss /= len(train_loader)\n",
        "    print('\\tTrain set: Average loss: {:.4f}'.format(train_loss))\n",
        "    return train_loss\n",
        "    \n",
        "def test(model, device, test_loader, criterion, message=None):\n",
        "    model.eval()\n",
        "    test_loss = 0.\n",
        "    correct = 0\n",
        "    # this is just inference, we don't need to calculate gradients\n",
        "    with torch.no_grad():\n",
        "        for data, target in test_loader:\n",
        "            data, target = data.to(device), target.to(device) \n",
        "            output = model(data)\n",
        "            # calculate and sum up batch loss\n",
        "            test_loss += criterion(output, target) \n",
        "            # get the index of class with the max probability \n",
        "            prediction = output.argmax(dim=1)  \n",
        "            #_, predicted = torch.max(outputs.data, axis=1)\n",
        "            # item() returns value of the given tensor\n",
        "            correct += prediction.eq(target).sum().item()\n",
        "    test_loss /= len(test_loader)\n",
        "    accuracy = correct / len(test_loader.dataset)\n",
        "    if message is not None:\n",
        "        print('\\t{}: Average loss: {:.4f}, Accuracy: {}/{} ({:.0f}%)'.format(\n",
        "            message, test_loss, correct, len(test_loader.dataset), 100.*accuracy))\n",
        "    return test_loss.cpu(), accuracy\n",
        "\n",
        "def run_training(model, criterion, optimizer, no_epochs):\n",
        "    train_loss = []\n",
        "    validation_loss = []\n",
        "    validation_accuracy = []\n",
        "    test_accuracy = []\n",
        "    for epoch_number in range(1, no_epochs+1):\n",
        "        train_loss.append(train(model, device, train_loader, \n",
        "                                optimizer, criterion, epoch_number))\n",
        "        val_loss, val_acc = test(model, device, validation_loader, \n",
        "                                criterion, 'Validation set')\n",
        "        validation_loss.append(val_loss)\n",
        "        validation_accuracy.append(val_acc)\n",
        "        # we also collect test accuracies for every epoch\n",
        "        _, test_acc = test(model, device, test_loader, criterion)\n",
        "        test_accuracy.append(test_acc)\n",
        "    # and select test accuracy for the best epoch (with the highest validation accuracy)\n",
        "    best_accuracy = test_accuracy[np.argmax(validation_accuracy)]\n",
        "    return train_loss, validation_loss, best_accuracy\n",
        "\n",
        "def plot_loss(train_loss, validation_loss, title):\n",
        "    plt.grid(True)\n",
        "    plt.xlabel(\"subsequent epochs\")\n",
        "    plt.ylabel('average loss')\n",
        "    plt.plot(range(1, len(train_loss)+1), train_loss, 'o-', label='training')\n",
        "    plt.plot(range(1, len(validation_loss)+1), validation_loss, 'o-', label='validation')\n",
        "    plt.legend()\n",
        "    plt.title(title)\n",
        "    plt.show()"
      ],
      "execution_count": 5,
      "outputs": []
    },
    {
      "cell_type": "markdown",
      "metadata": {
        "id": "wVfZwS4f4aYv"
      },
      "source": [
        "### Do the experiments"
      ]
    },
    {
      "cell_type": "code",
      "metadata": {
        "id": "yLTuDOj61zc9",
        "colab": {
          "base_uri": "https://localhost:8080/"
        },
        "outputId": "d47ae09b-dac6-4291-d42f-2b2d2bda3614"
      },
      "source": [
        "device = torch.device(\"cuda\" if torch.cuda.is_available() else \"cpu\")\n",
        "\n",
        "model = SimpleCNN().to(device)\n",
        "criterion = nn.CrossEntropyLoss()\n",
        "optimizer = optim.SGD(model.parameters(), \n",
        "                      lr=model_args['lr'], \n",
        "                      momentum=model_args['momentum'],\n",
        "                      weight_decay=model_args['weight_decay'])\n",
        "no_epochs = model_args['epochs']\n",
        "\n",
        "train_loss, val_loss, best_accuracy = run_training(model, criterion, optimizer, no_epochs)\n",
        "\n",
        "print('\\nTest accuracy for best epoch: {:.0f}%\\n'.format(100.*best_accuracy))\n",
        "plot_loss(train_loss, val_loss, 'SimpleCNN model')"
      ],
      "execution_count": null,
      "outputs": [
        {
          "output_type": "stream",
          "name": "stdout",
          "text": [
            "Train Epoch: 1\n",
            "\tTrain set: Average loss: 1.9307\n",
            "\tValidation set: Average loss: 1.7883, Accuracy: 1786/5000 (36%)\n",
            "Train Epoch: 2\n",
            "\tTrain set: Average loss: 1.7130\n",
            "\tValidation set: Average loss: 1.6206, Accuracy: 2106/5000 (42%)\n",
            "Train Epoch: 3\n",
            "\tTrain set: Average loss: 1.6354\n",
            "\tValidation set: Average loss: 1.6448, Accuracy: 2089/5000 (42%)\n"
          ]
        }
      ]
    },
    {
      "cell_type": "code",
      "source": [
        "torch.save(model.state_dict(), './SimpleCNN_model.pth') "
      ],
      "metadata": {
        "id": "Gn-ZAUxxvDqL"
      },
      "execution_count": null,
      "outputs": []
    },
    {
      "cell_type": "code",
      "source": [
        "np.savetxt(\"SimpleCNN.txt\",[train_loss,val_loss])"
      ],
      "metadata": {
        "id": "94aqAsc-rrc4"
      },
      "execution_count": null,
      "outputs": []
    },
    {
      "cell_type": "code",
      "metadata": {
        "id": "AeZn87FK_IKZ"
      },
      "source": [
        "device = torch.device(\"cuda\" if torch.cuda.is_available() else \"cpu\")\n",
        "\n",
        "model = VGG(make_layers(vgg_cfg['vgg11'])).to(device)\n",
        "criterion = nn.CrossEntropyLoss()\n",
        "optimizer = optim.SGD(model.parameters(), \n",
        "                      lr=model_args['lr'], \n",
        "                      momentum=.5,\n",
        "                      weight_decay=1.e-3)\n",
        "no_epochs = model_args['epochs']\n",
        "\n",
        "train_loss_11, val_loss_11, best_accuracy = run_training(model, criterion, optimizer, no_epochs)\n",
        "\n",
        "print('\\nTest accuracy for best epoch: {:.0f}%\\n'.format(100.*best_accuracy))\n",
        "plot_loss(train_loss_11, val_loss_11, 'VGG11 model')"
      ],
      "execution_count": null,
      "outputs": []
    },
    {
      "cell_type": "code",
      "source": [
        "np.savetxt(\"VGG11.txt\",[train_loss_11,val_loss_11])"
      ],
      "metadata": {
        "id": "jmq7JB2OskWz"
      },
      "execution_count": null,
      "outputs": []
    },
    {
      "cell_type": "code",
      "source": [
        "torch.save(model.state_dict(), './VGG11_model.pth') "
      ],
      "metadata": {
        "id": "LbXZdT2IvTzo"
      },
      "execution_count": null,
      "outputs": []
    },
    {
      "cell_type": "code",
      "metadata": {
        "id": "7kxtR7-sykaT"
      },
      "source": [
        "device = torch.device(\"cuda\" if torch.cuda.is_available() else \"cpu\")\n",
        "\n",
        "model = VGG(make_layers(vgg_cfg['vgg11'])).to(device)\n",
        "criterion = nn.CrossEntropyLoss()\n",
        "optimizer = optim.SGD(model.parameters(), \n",
        "                      lr=model_args['lr'], \n",
        "                      momentum=.5,\n",
        "                      weight_decay=1.e-3)\n",
        "no_epochs = model_args['epochs']\n",
        "\n",
        "train_loss_11, val_loss_11, best_accuracy = run_training(model, criterion, optimizer, no_epochs)\n",
        "\n",
        "print('\\nTest accuracy for best epoch: {:.0f}%\\n'.format(100.*best_accuracy))\n",
        "plot_loss(train_loss_11, val_loss_11, 'VGG11 - altered model')"
      ],
      "execution_count": null,
      "outputs": []
    },
    {
      "cell_type": "code",
      "source": [
        "np.savetxt(\"VGG11_v2.txt\",[train_loss_11,val_loss_11])"
      ],
      "metadata": {
        "id": "o_JmRI3eykaT"
      },
      "execution_count": null,
      "outputs": []
    },
    {
      "cell_type": "code",
      "source": [
        "torch.save(model.state_dict(), './VGG11_v2_model.pth') "
      ],
      "metadata": {
        "id": "5w1KvkoMykaT"
      },
      "execution_count": null,
      "outputs": []
    },
    {
      "cell_type": "code",
      "metadata": {
        "id": "wd8zSZVjDequ"
      },
      "source": [
        "device = torch.device(\"cuda\" if torch.cuda.is_available() else \"cpu\")\n",
        "\n",
        "model = VGG(make_layers(vgg_cfg['vgg16'])).to(device)\n",
        "criterion = nn.CrossEntropyLoss()\n",
        "optimizer = optim.SGD(model.parameters(), \n",
        "                      lr=model_args['lr'], \n",
        "                      momentum=model_args['momentum'],\n",
        "                      weight_decay=1.e-3)\n",
        "\n",
        "no_epochs = model_args['epochs']\n",
        "\n",
        "train_loss_16, val_loss_16, best_accuracy = run_training(model, criterion, optimizer, no_epochs)\n",
        "\n",
        "print('\\nTest accuracy for best epoch: {:.0f}%\\n'.format(100.*best_accuracy))\n",
        "plot_loss(train_loss_16, val_loss_16, 'VGG16 model')"
      ],
      "execution_count": null,
      "outputs": []
    },
    {
      "cell_type": "code",
      "source": [
        "np.savetxt(\"VGG16.txt\",[train_loss_16,val_loss_16])"
      ],
      "metadata": {
        "id": "4px32UuBuH0k"
      },
      "execution_count": null,
      "outputs": []
    },
    {
      "cell_type": "code",
      "source": [
        "torch.save(model.state_dict(), './VGG16_model.pth') "
      ],
      "metadata": {
        "id": "OFyP5o7_vYgO"
      },
      "execution_count": null,
      "outputs": []
    },
    {
      "cell_type": "code",
      "metadata": {
        "id": "GuO_W31Px48q"
      },
      "source": [
        "device = torch.device(\"cuda\" if torch.cuda.is_available() else \"cpu\")\n",
        "\n",
        "model = VGG(make_layers(vgg_cfg['vgg19'])).to(device)\n",
        "criterion = nn.CrossEntropyLoss()\n",
        "optimizer = optim.SGD(model.parameters(), \n",
        "                      lr=model_args['lr'], \n",
        "                      momentum=model_args['momentum'],\n",
        "                      weight_decay=1.e-3)\n",
        "\n",
        "no_epochs = model_args['epochs']\n",
        "\n",
        "train_loss_19, val_loss_19, best_accuracy = run_training(model, criterion, optimizer, no_epochs)\n",
        "\n",
        "print('\\nTest accuracy for best epoch: {:.0f}%\\n'.format(100.*best_accuracy))\n",
        "plot_loss(train_loss_19, val_loss_19, 'VGG16 model')"
      ],
      "execution_count": null,
      "outputs": []
    },
    {
      "cell_type": "code",
      "source": [
        "np.savetxt(\"VGG19.txt\",[train_loss_19,val_loss_19])"
      ],
      "metadata": {
        "id": "XQlvThKFx48q"
      },
      "execution_count": null,
      "outputs": []
    },
    {
      "cell_type": "code",
      "source": [
        "torch.save(model.state_dict(), './VGG19_model.pth') "
      ],
      "metadata": {
        "id": "JaAJs2Y3x48q"
      },
      "execution_count": null,
      "outputs": []
    },
    {
      "cell_type": "code",
      "metadata": {
        "id": "s1LVglaoyEYV"
      },
      "source": [
        "device = torch.device(\"cuda\" if torch.cuda.is_available() else \"cpu\")\n",
        "\n",
        "model = VGG(make_layers(vgg_cfg['vgg22'])).to(device)\n",
        "criterion = nn.CrossEntropyLoss()\n",
        "optimizer = optim.SGD(model.parameters(), \n",
        "                      lr=model_args['lr'], \n",
        "                      momentum=model_args['momentum'],\n",
        "                      weight_decay=1.e-3)\n",
        "\n",
        "no_epochs = model_args['epochs']\n",
        "\n",
        "train_loss_22, val_loss_22, best_accuracy = run_training(model, criterion, optimizer, no_epochs)\n",
        "\n",
        "print('\\nTest accuracy for best epoch: {:.0f}%\\n'.format(100.*best_accuracy))\n",
        "plot_loss(train_loss_22, val_loss_22, 'VGG16 model')"
      ],
      "execution_count": null,
      "outputs": []
    },
    {
      "cell_type": "code",
      "source": [
        "np.savetxt(\"VGG22.txt\",[train_loss_22,val_loss_22])"
      ],
      "metadata": {
        "id": "gHFeJod3yEYW"
      },
      "execution_count": null,
      "outputs": []
    },
    {
      "cell_type": "code",
      "source": [
        "torch.save(model.state_dict(), './VGG22_model.pth') "
      ],
      "metadata": {
        "id": "zTYLotKryEYW"
      },
      "execution_count": null,
      "outputs": []
    },
    {
      "cell_type": "markdown",
      "metadata": {
        "id": "4EuqaO5aTs3U"
      },
      "source": [
        "Now compare training curves for both VGGs:"
      ]
    },
    {
      "cell_type": "code",
      "metadata": {
        "id": "DSfy60K4Tl81"
      },
      "source": [
        "plt.grid(True)\n",
        "plt.xlabel(\"subsequent epochs\")\n",
        "plt.ylabel('average loss')\n",
        "plt.plot(range(1, len(train_loss_11)+1), train_loss_11, 'o-', label='train_VGG11')\n",
        "plt.plot(range(1, len(val_loss_11)+1), val_loss_11, 'o-', label='val_VGG11')\n",
        "plt.plot(range(1, len(train_loss_16)+1), train_loss_16, 'o-', label='train_VGG16')\n",
        "plt.plot(range(1, len(val_loss_16)+1), val_loss_16, 'o-', label='val_VGG16')\n",
        "plt.legend()\n",
        "plt.title(\"VGGs comparison\")\n",
        "plt.show()"
      ],
      "execution_count": null,
      "outputs": []
    },
    {
      "cell_type": "markdown",
      "metadata": {
        "id": "9kA4AWhSAltR"
      },
      "source": [
        "Let's check residual network: ResNet\n",
        "- implementarion borrowed from https://github.com/kuangliu/pytorch-cifar/blob/master/models/resnet.py"
      ]
    },
    {
      "cell_type": "code",
      "metadata": {
        "id": "cgMExRjiatW8"
      },
      "source": [
        "class BasicBlock(nn.Module):\n",
        "    expansion = 1\n",
        "\n",
        "    def __init__(self, in_planes, planes, stride=1):\n",
        "        super(BasicBlock, self).__init__()\n",
        "        self.conv1 = nn.Conv2d(\n",
        "            in_planes, planes, kernel_size=3, stride=stride, padding=1, bias=False)\n",
        "        self.bn1 = nn.BatchNorm2d(planes)\n",
        "        self.conv2 = nn.Conv2d(planes, planes, kernel_size=3,\n",
        "                               stride=1, padding=1, bias=False)\n",
        "        self.bn2 = nn.BatchNorm2d(planes)\n",
        "\n",
        "        self.shortcut = nn.Sequential()\n",
        "        if stride != 1 or in_planes != self.expansion*planes:\n",
        "            self.shortcut = nn.Sequential(\n",
        "                nn.Conv2d(in_planes, self.expansion*planes,\n",
        "                          kernel_size=1, stride=stride, bias=False),\n",
        "                nn.BatchNorm2d(self.expansion*planes)\n",
        "            )\n",
        "\n",
        "    def forward(self, x):\n",
        "        out = F.relu(self.bn1(self.conv1(x)))\n",
        "        out = self.bn2(self.conv2(out))\n",
        "        out += self.shortcut(x)\n",
        "        out = F.relu(out)\n",
        "        return out\n",
        "\n",
        "class ResNet(nn.Module):\n",
        "    def __init__(self, block, num_blocks, num_classes=10):\n",
        "        super(ResNet, self).__init__()\n",
        "        self.in_planes = 64\n",
        "\n",
        "        self.conv1 = nn.Conv2d(3, 64, kernel_size=3,\n",
        "                               stride=1, padding=1, bias=False)\n",
        "        self.bn1 = nn.BatchNorm2d(64)\n",
        "        self.layer1 = self._make_layer(block, 64, num_blocks[0], stride=1)\n",
        "        self.layer2 = self._make_layer(block, 128, num_blocks[1], stride=2)\n",
        "        self.layer3 = self._make_layer(block, 256, num_blocks[2], stride=2)\n",
        "        self.layer4 = self._make_layer(block, 512, num_blocks[3], stride=2)\n",
        "        self.linear = nn.Linear(512*block.expansion, num_classes)\n",
        "\n",
        "    def _make_layer(self, block, planes, num_blocks, stride):\n",
        "        strides = [stride] + [1]*(num_blocks-1)\n",
        "        layers = []\n",
        "        for stride in strides:\n",
        "            layers.append(block(self.in_planes, planes, stride))\n",
        "            self.in_planes = planes * block.expansion\n",
        "        return nn.Sequential(*layers)\n",
        "\n",
        "    def forward(self, x):\n",
        "        out = F.relu(self.bn1(self.conv1(x)))\n",
        "        out = self.layer1(out)\n",
        "        out = self.layer2(out)\n",
        "        out = self.layer3(out)\n",
        "        out = self.layer4(out)\n",
        "        out = F.avg_pool2d(out, 4)\n",
        "        out = out.view(out.size(0), -1)\n",
        "        out = self.linear(out)\n",
        "        return out\n",
        "\n",
        "def ResNet18():\n",
        "    return ResNet(BasicBlock, [2, 2, 2, 2])\n",
        "\n",
        "def ResNet34():\n",
        "    return ResNet(BasicBlock, [3, 4, 6, 3])"
      ],
      "execution_count": null,
      "outputs": []
    },
    {
      "cell_type": "code",
      "metadata": {
        "id": "2eWcHpka47ZB"
      },
      "source": [
        "device = torch.device(\"cuda\" if torch.cuda.is_available() else \"cpu\")\n",
        "\n",
        "model = ResNet18().to(device)\n",
        "criterion = nn.CrossEntropyLoss()\n",
        "optimizer = optim.SGD(model.parameters(), \n",
        "                      lr=model_args['lr'], \n",
        "                      momentum=model_args['momentum'],\n",
        "                      weight_decay=1.e-3)\n",
        "\n",
        "no_epochs = model_args['epochs']\n",
        "\n",
        "train_loss, validation_loss, best_accuracy = run_training(model, criterion, optimizer, no_epochs)\n",
        "\n",
        "print('\\nTest accuracy for best epoch: {:.0f}%\\n'.format(100.*best_accuracy))\n",
        "plot_loss(train_loss, validation_loss, 'ResNet18 model')"
      ],
      "execution_count": null,
      "outputs": []
    },
    {
      "cell_type": "code",
      "source": [
        "np.savetxt(\"ResNet18.txt\",[train_loss,val_loss])"
      ],
      "metadata": {
        "id": "4iWWPH5Kvmo_"
      },
      "execution_count": null,
      "outputs": []
    },
    {
      "cell_type": "code",
      "source": [
        "torch.save(model.state_dict(), './ResNet18_model.pth') "
      ],
      "metadata": {
        "id": "sGLUDVrevmo_"
      },
      "execution_count": null,
      "outputs": []
    },
    {
      "cell_type": "markdown",
      "source": [
        "Now let's play with **transfer learning**. Compare our results with Resnet18 from *Torchvision* package with pretrained weights (i.e. pretrained=True)\n",
        "* pretrained model needs to be tuned (to be comparable with previous one)"
      ],
      "metadata": {
        "id": "XwCbtxbLz60p"
      }
    },
    {
      "cell_type": "code",
      "source": [
        "import torchvision.models.resnet as resnet\n",
        "model = resnet.resnet18(pretrained=True)\n",
        "print(model)\n",
        "model.conv1 = nn.Conv2d(3, 64, kernel_size=(3, 3), stride=(1, 1), padding=(1, 1), bias=False)\n",
        "model.bn1 = nn.BatchNorm2d(64, eps=1e-05, momentum=0.1, affine=True, track_running_stats=True)\n",
        "model.relu = nn.Identity()  # only input layers\n",
        "model.maxpool = nn.Identity()  # only in input layers\n",
        "model.fc = nn.Linear(512, 10)\n",
        "\n",
        "device = torch.device(\"cuda\" if torch.cuda.is_available() else \"cpu\")\n",
        "model = model.to(device)\n",
        "\n",
        "criterion = nn.CrossEntropyLoss()\n",
        "optimizer = optim.SGD(model.parameters(), \n",
        "                      lr=model_args['lr'], \n",
        "                      momentum=model_args['momentum'],\n",
        "                      weight_decay=1.e-3)\n",
        "\n",
        "no_epochs = model_args['epochs']\n",
        "\n",
        "train_loss, validation_loss, best_accuracy = run_training(model, criterion, optimizer, no_epochs)\n",
        "\n",
        "print('\\nTest accuracy for best epoch: {:.0f}%\\n'.format(100.*best_accuracy))\n",
        "plot_loss(train_loss, validation_loss, 'ResNet18 pretrained model')"
      ],
      "metadata": {
        "id": "PBUTfHd3z7-y"
      },
      "execution_count": null,
      "outputs": []
    },
    {
      "cell_type": "markdown",
      "metadata": {
        "id": "0QoGFpkNJQJA"
      },
      "source": [
        "## Tasks to do:\n",
        "\n",
        "1. Check turning off the data normalization -- how this impacts network training.\n",
        "2. What happens if we put *weight_decay* = 0. and increase *momentum* to .9 for VGG11 model -- why is that? (hint: observe interplay between *learning rate* and *momentum*)\n",
        "3. Try to explain why the deeper VGG16 network trains longer than VGG11.\n",
        "4. Compare with performance for deeper VGGs: 19 or 22 -- do we observe saturation in accuracy or even *degradation* problem?\n",
        "5. Does ResNet18 (with similar depth) perform better, what for ResNet34? What about training time in this case?\n",
        "6. Does transfer learning speed up training?\n",
        "\n",
        "---\n",
        "\n",
        "## Additional comments/tasks\n",
        "In some situations (especially when training large models), it can be useful to save the trained model (its parameters) for future evaluation. A common method is to save the model after each epoch, and then use the one with the lowest validation error.<br>\n",
        "To save/load model parameters, we can use:\n",
        "```python\n",
        "torch.save(model.state_dict(), './model.pth') \n",
        "```\n",
        "then later\n",
        "```python\n",
        "model = TheModelClass()\n",
        "model.load_state_dict(torch.load('./model.pth'))\n",
        "model.eval()\n",
        "```\n",
        "\n",
        "Having model's parameters can be used to visualize conv layer kernels. We can access each model parameter through:\n",
        "```python\n",
        "for name, param in model.named_parameters():\n",
        "    if param.requires_grad:\n",
        "        print(name, param.data)\n",
        "```\n",
        "or just print out given layer, e.g. in *SimpleCNN*, we can acces to its kernels via:\n",
        "```python\n",
        "print(conv1.weight)\n",
        "```\n",
        "- try to visualize them\n",
        "- how many different kernels do we have in a given layer, why is that?\n",
        "\n",
        "\n",
        "To analyze the model structure *torch-summary* package can be usefull:\n"
      ]
    },
    {
      "cell_type": "code",
      "source": [
        "from torchsummary import summary\n",
        "\n",
        "model = SimpleCNN().to(device)\n",
        "summary(model, input_size=(3, 32, 32))"
      ],
      "metadata": {
        "id": "kxuUyGwlzscR",
        "outputId": "2167255c-aeeb-4608-f9b4-08ed1e887601",
        "colab": {
          "base_uri": "https://localhost:8080/"
        }
      },
      "execution_count": null,
      "outputs": [
        {
          "output_type": "stream",
          "name": "stdout",
          "text": [
            "----------------------------------------------------------------\n",
            "        Layer (type)               Output Shape         Param #\n",
            "================================================================\n",
            "            Conv2d-1            [-1, 6, 28, 28]             456\n",
            "         MaxPool2d-2            [-1, 6, 14, 14]               0\n",
            "            Conv2d-3           [-1, 16, 10, 10]           2,416\n",
            "         MaxPool2d-4             [-1, 16, 5, 5]               0\n",
            "            Linear-5                  [-1, 120]          48,120\n",
            "            Linear-6                   [-1, 80]           9,680\n",
            "            Linear-7                   [-1, 10]             810\n",
            "================================================================\n",
            "Total params: 61,482\n",
            "Trainable params: 61,482\n",
            "Non-trainable params: 0\n",
            "----------------------------------------------------------------\n",
            "Input size (MB): 0.01\n",
            "Forward/backward pass size (MB): 0.06\n",
            "Params size (MB): 0.23\n",
            "Estimated Total Size (MB): 0.31\n",
            "----------------------------------------------------------------\n"
          ]
        }
      ]
    }
  ]
}