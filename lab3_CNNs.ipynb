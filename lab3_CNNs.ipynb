{
  "nbformat": 4,
  "nbformat_minor": 0,
  "metadata": {
    "colab": {
      "provenance": [],
      "include_colab_link": true
    },
    "kernelspec": {
      "name": "python3",
      "display_name": "Python 3"
    },
    "language_info": {
      "name": "python"
    },
    "accelerator": "GPU"
  },
  "cells": [
    {
      "cell_type": "markdown",
      "metadata": {
        "id": "view-in-github",
        "colab_type": "text"
      },
      "source": [
        "<a href=\"https://colab.research.google.com/github/a-m-kacz/MLA/blob/main/lab3_CNNs.ipynb\" target=\"_parent\"><img src=\"https://colab.research.google.com/assets/colab-badge.svg\" alt=\"Open In Colab\"/></a>"
      ]
    },
    {
      "cell_type": "markdown",
      "metadata": {
        "id": "796WOHUh5lOF"
      },
      "source": [
        "# Image Classification using advanced CNNs\n",
        "- we are going to use CIFAR-10 [dataset](https://www.cs.toronto.edu/~kriz/cifar.html) of 32x32 color images"
      ]
    },
    {
      "cell_type": "code",
      "metadata": {
        "id": "BfhWChzQmaaJ"
      },
      "source": [
        "import torch\n",
        "import torch.nn as nn\n",
        "import torch.nn.functional as F\n",
        "import torch.optim as optim\n",
        "import torchvision\n",
        "import torchvision.transforms as transforms\n",
        "import torchvision.datasets as datasets\n",
        "import torchvision.models as models\n",
        "\n",
        "import numpy as np\n",
        "\n",
        "import matplotlib.pyplot as plt\n",
        "plt.rcParams.update({'font.size': 14})\n",
        "\n",
        "model_args = {}\n",
        "# we will use batch size of 64 in Stochastic Gradient Descent (SGD) optimization of the network\n",
        "model_args['batch_size'] = 64 \n",
        "# learning rate is how fast it will descend\n",
        "model_args['lr'] = .05\n",
        "# model_args['lr'] = 0.1\n",
        "# SGD momentum (default: .5) momentum is a moving average of gradients (it helps to keep direction) \n",
        "model_args['momentum'] = .9\n",
        "# the number of epochs is the number of times you go through the full dataset\n",
        "model_args['weight_decay'] = 5.e-4\n",
        "model_args['epochs'] = 60"
      ],
      "execution_count": 1,
      "outputs": []
    },
    {
      "cell_type": "markdown",
      "metadata": {
        "id": "enkr1MTg5uW6"
      },
      "source": [
        "### Download CIFAR-10 dataset and define models\n",
        "Similar as with MNIST we use torchvision to download the data"
      ]
    },
    {
      "cell_type": "code",
      "metadata": {
        "id": "YVnoNdKorEDe",
        "colab": {
          "base_uri": "https://localhost:8080/"
        },
        "outputId": "913d5ee6-4454-4498-e27f-63d8b3ea00da"
      },
      "source": [
        "!rm -r ./data\n",
        "# normalize dataset\n",
        "mean = [0.485, 0.456, 0.406]\n",
        "std = [0.229, 0.224, 0.225]\n",
        "#mean = [.5, .5, .5]\n",
        "#std = [.5, .5, .5]\n",
        "transform = transforms.Compose([transforms.ToTensor(),transforms.Normalize(mean, std)])\n",
        "\n",
        "cifar10_train = datasets.CIFAR10(root='./data', train=True, download=True, transform=transform)\n",
        "# we divide this data into training and validation subsets\n",
        "train_subset, validation_subset = torch.utils.data.random_split(cifar10_train, [40000, 10000])\n",
        "test_subset = datasets.CIFAR10(root='./data', train=False, download=True, transform=transform)\n",
        "\n",
        "# # subsample to speedup training (colab has notebook lifetime limit)\n",
        "# train_subset = torch.utils.data.Subset(train_subset, range(20000))\n",
        "# validation_subset = torch.utils.data.Subset(validation_subset, range(5000))\n",
        "# test_subset = torch.utils.data.Subset(test_subset, range(5000))\n",
        "\n",
        "# define dataloaders\n",
        "loader_kwargs = {'batch_size': model_args['batch_size'], \n",
        "                 'num_workers': 2, \n",
        "                 'pin_memory': True, \n",
        "                 'shuffle': True}\n",
        "train_loader = torch.utils.data.DataLoader(train_subset, **loader_kwargs)\n",
        "validation_loader = torch.utils.data.DataLoader(validation_subset, **loader_kwargs)\n",
        "test_loader = torch.utils.data.DataLoader(test_subset, **loader_kwargs)\n",
        "\n",
        "classes = ('plane', 'car', 'bird', 'cat', 'deer', \n",
        "           'dog', 'frog', 'horse', 'ship', 'truck')"
      ],
      "execution_count": 2,
      "outputs": [
        {
          "output_type": "stream",
          "name": "stdout",
          "text": [
            "rm: cannot remove './data': No such file or directory\n",
            "Downloading https://www.cs.toronto.edu/~kriz/cifar-10-python.tar.gz to ./data/cifar-10-python.tar.gz\n"
          ]
        },
        {
          "output_type": "stream",
          "name": "stderr",
          "text": [
            "100%|██████████| 170498071/170498071 [00:02<00:00, 82850956.62it/s]\n"
          ]
        },
        {
          "output_type": "stream",
          "name": "stdout",
          "text": [
            "Extracting ./data/cifar-10-python.tar.gz to ./data\n",
            "Files already downloaded and verified\n"
          ]
        }
      ]
    },
    {
      "cell_type": "code",
      "source": [
        "!rm -r ./data\n",
        "# unnormalized dataset\n",
        "\n",
        "transform = transforms.ToTensor()\n",
        "\n",
        "cifar10_train = datasets.CIFAR10(root='./data', train=True, download=True, transform=transform)\n",
        "# we divide this data into training and validation subsets\n",
        "train_subset, validation_subset = torch.utils.data.random_split(cifar10_train, [40000, 10000])\n",
        "test_subset = datasets.CIFAR10(root='./data', train=False, download=True, transform=transform)\n",
        "\n",
        "# subsample to speedup training (colab has notebook lifetime limit)\n",
        "\n",
        "train_subset = torch.utils.data.Subset(train_subset, range(20000))\n",
        "validation_subset = torch.utils.data.Subset(validation_subset, range(5000))\n",
        "test_subset = torch.utils.data.Subset(test_subset, range(5000))\n",
        "\n",
        "# define dataloaders\n",
        "loader_kwargs = {'batch_size': model_args['batch_size'], \n",
        "                 'num_workers': 2, \n",
        "                 'pin_memory': True, \n",
        "                 'shuffle': True}\n",
        "train_loader = torch.utils.data.DataLoader(train_subset, **loader_kwargs)\n",
        "validation_loader = torch.utils.data.DataLoader(validation_subset, **loader_kwargs)\n",
        "test_loader = torch.utils.data.DataLoader(test_subset, **loader_kwargs)\n",
        "\n",
        "classes = ('plane', 'car', 'bird', 'cat', 'deer', \n",
        "           'dog', 'frog', 'horse', 'ship', 'truck')"
      ],
      "metadata": {
        "id": "NNuA4tS84T5N",
        "colab": {
          "base_uri": "https://localhost:8080/"
        },
        "outputId": "bf7b33cb-c05d-4837-9e0d-d85d40441b75"
      },
      "execution_count": 3,
      "outputs": [
        {
          "output_type": "stream",
          "name": "stdout",
          "text": [
            "Downloading https://www.cs.toronto.edu/~kriz/cifar-10-python.tar.gz to ./data/cifar-10-python.tar.gz\n"
          ]
        },
        {
          "output_type": "stream",
          "name": "stderr",
          "text": [
            "100%|██████████| 170498071/170498071 [00:10<00:00, 15558422.97it/s]\n"
          ]
        },
        {
          "output_type": "stream",
          "name": "stdout",
          "text": [
            "Extracting ./data/cifar-10-python.tar.gz to ./data\n",
            "Files already downloaded and verified\n"
          ]
        }
      ]
    },
    {
      "cell_type": "markdown",
      "metadata": {
        "id": "Ki6Yt0Ix5e61"
      },
      "source": [
        "Let's show some of the training images"
      ]
    },
    {
      "cell_type": "code",
      "metadata": {
        "id": "u6ABBbw7rSYv",
        "colab": {
          "base_uri": "https://localhost:8080/",
          "height": 458
        },
        "outputId": "72be69f9-e164-476d-a7d7-d7f97d680f27"
      },
      "source": [
        "def imshow(img):\n",
        "    npimg = img.numpy()*std[0]+mean[0] # this should be done for each channel separately ;)\n",
        "    plt.imshow(np.transpose(npimg, (1,2,0)), interpolation='nearest')\n",
        "\n",
        "def imshow2(img):\n",
        "    npimg = img.numpy() # data was not normalized so no need to multiply by std an add mean back\n",
        "    plt.imshow(np.transpose(npimg, (1,2,0)), interpolation='nearest')\n",
        "# get some random training images\n",
        "dataiter = iter(train_loader)\n",
        "images, _ = next(dataiter)\n",
        "\n",
        "# show images\n",
        "# imshow(torchvision.utils.make_grid(images[:16], nrow=4))\n",
        "imshow2(torchvision.utils.make_grid(images[:16], nrow=4))\n"
      ],
      "execution_count": 3,
      "outputs": [
        {
          "output_type": "stream",
          "name": "stderr",
          "text": [
            "WARNING:matplotlib.image:Clipping input data to the valid range for imshow with RGB data ([0..1] for floats or [0..255] for integers).\n"
          ]
        },
        {
          "output_type": "display_data",
          "data": {
            "text/plain": [
              "<Figure size 640x480 with 1 Axes>"
            ],
            "image/png": "[encoded data removed]"
          },
          "metadata": {}
        }
      ]
    },
    {
      "cell_type": "markdown",
      "metadata": {
        "id": "wFmOjuxx36Tr"
      },
      "source": [
        "Now define CNN models\n",
        "- VGG definition borrowed from *https://github.com/chengyangfu/pytorch-vgg-cifar10*\n"
      ]
    },
    {
      "cell_type": "code",
      "metadata": {
        "id": "LAgi8fU2rsJV"
      },
      "source": [
        "class SimpleCNN(nn.Module):\n",
        "    '''\n",
        "    simple CNN model\n",
        "    '''\n",
        "    def __init__(self):\n",
        "        super().__init__()\n",
        "        self.conv1 = nn.Conv2d(3, 6, 5)\n",
        "        self.pool = nn.MaxPool2d(2, 2)\n",
        "        self.conv2 = nn.Conv2d(6, 16, 5)\n",
        "        self.fc1 = nn.Linear(16 * 5 * 5, 120)\n",
        "        self.fc2 = nn.Linear(120, 80)\n",
        "        self.fc3 = nn.Linear(80, 10)\n",
        "\n",
        "    def forward(self, x):\n",
        "        x = self.pool(F.relu(self.conv1(x)))\n",
        "        x = self.pool(F.relu(self.conv2(x)))\n",
        "        x = x.view(-1, 16 * 5 * 5)\n",
        "        x = F.relu(self.fc1(x))\n",
        "        x = F.relu(self.fc2(x))\n",
        "        x = self.fc3(x)\n",
        "        return x\n",
        "\n",
        "class VGG(nn.Module):\n",
        "    '''\n",
        "    VGG model \n",
        "    '''\n",
        "    def __init__(self, features):\n",
        "        super(VGG, self).__init__()\n",
        "        self.features = features\n",
        "        self.classifier = nn.Sequential(\n",
        "            nn.Dropout(),\n",
        "            nn.Linear(512, 512),\n",
        "            nn.ReLU(True),\n",
        "            nn.Dropout(),\n",
        "            nn.Linear(512, 512),\n",
        "            nn.ReLU(True),\n",
        "            nn.Linear(512, 10),\n",
        "        )\n",
        "        # Initialize weights\n",
        "        for m in self.modules():\n",
        "            if isinstance(m, nn.Conv2d):\n",
        "                n = m.kernel_size[0] * m.kernel_size[1] * m.out_channels\n",
        "                m.weight.data.normal_(0, np.sqrt(2. / n))\n",
        "                m.bias.data.zero_()\n",
        "\n",
        "    def forward(self, x):\n",
        "        # print(\"tutaj\")\n",
        "        # print(x.shape())\n",
        "        x = self.features(x)\n",
        "        x = x.view(x.size(0), -1)\n",
        "        x = self.classifier(x)\n",
        "        return x\n",
        "\n",
        "def make_layers(cfg, batch_norm=False):\n",
        "    layers = []\n",
        "    in_channels = 3\n",
        "    for v in cfg:\n",
        "        if v == 'M':\n",
        "            layers += [nn.MaxPool2d(kernel_size=2, stride=2)]\n",
        "        else:\n",
        "            conv2d = nn.Conv2d(in_channels, v, kernel_size=3, padding=1)\n",
        "            if batch_norm:\n",
        "                layers += [conv2d, nn.BatchNorm2d(v), nn.ReLU(inplace=True)]\n",
        "            else:\n",
        "                layers += [conv2d, nn.ReLU(inplace=True)]\n",
        "            in_channels = v\n",
        "    return nn.Sequential(*layers)\n",
        "\n",
        "vgg_cfg = {\n",
        "    'vgg11': [64, 'M', 128, 'M', 256, 256, 'M', 512, 512, 'M', 512, 512, 'M'],\n",
        "    'vgg13': [64, 64, 'M', 128, 128, 'M', 256, 256, 'M', 512, 512, 'M', 512, 512, 'M'],\n",
        "    'vgg16': [64, 64, 'M', 128, 128, 'M', 256, 256, 256, 'M', 512, 512, 512, 'M', 512, 512, 512, 'M'],\n",
        "    'vgg19': [64, 64, 'M', 128, 128, 'M', 256, 256, 256, 256, 'M', 512, 512, 512, 512, 'M', 512, 512, 512, 512, 'M'],\n",
        "    'vgg22': [64, 64, 'M', 128, 128, 'M', 256, 256, 256, 256, 256, 'M', 512, 512, 512, 512, 512, 'M', 512, 512, 512, 512, 512, 'M']\n",
        "}"
      ],
      "execution_count": 4,
      "outputs": []
    },
    {
      "cell_type": "markdown",
      "metadata": {
        "id": "sayQ1miv9lJM"
      },
      "source": [
        "Define util methods"
      ]
    },
    {
      "cell_type": "code",
      "metadata": {
        "id": "NgMtomaD-E1D"
      },
      "source": [
        "def train(model, device, train_loader, optimizer, criterion, epoch_number):\n",
        "    model.train()\n",
        "    train_loss = 0.\n",
        "    # get subsequent batches over the data in a given epoch\n",
        "    for batch_idx, (data, target) in enumerate(train_loader):\n",
        "        # send data tensors to GPU (or CPU)\n",
        "        data, target = data.to(device), target.to(device)\n",
        "        # this will zero out the gradients for this batch\n",
        "        optimizer.zero_grad()\n",
        "        # this will execute the forward() function\n",
        "        output = model(data)\n",
        "        # calculate loss using c\n",
        "        loss = criterion(output, target)\n",
        "        # backpropagate the loss\n",
        "        loss.backward()\n",
        "        # update the model weights (with assumed learning rate)\n",
        "        optimizer.step()\n",
        "        train_loss += loss.item()\n",
        "    print('Train Epoch: {}'.format(epoch_number))\n",
        "    train_loss /= len(train_loader)\n",
        "    print('\\tTrain set: Average loss: {:.4f}'.format(train_loss))\n",
        "    return train_loss\n",
        "    \n",
        "def test(model, device, test_loader, criterion, message=None):\n",
        "    model.eval()\n",
        "    test_loss = 0.\n",
        "    correct = 0\n",
        "    # this is just inference, we don't need to calculate gradients\n",
        "    with torch.no_grad():\n",
        "        for data, target in test_loader:\n",
        "            data, target = data.to(device), target.to(device) \n",
        "            output = model(data)\n",
        "            # calculate and sum up batch loss\n",
        "            test_loss += criterion(output, target) \n",
        "            # get the index of class with the max probability \n",
        "            prediction = output.argmax(dim=1)  \n",
        "            #_, predicted = torch.max(outputs.data, axis=1)\n",
        "            # item() returns value of the given tensor\n",
        "            correct += prediction.eq(target).sum().item()\n",
        "    test_loss /= len(test_loader)\n",
        "    accuracy = correct / len(test_loader.dataset)\n",
        "    if message is not None:\n",
        "        print('\\t{}: Average loss: {:.4f}, Accuracy: {}/{} ({:.0f}%)'.format(\n",
        "            message, test_loss, correct, len(test_loader.dataset), 100.*accuracy))\n",
        "    return test_loss.cpu(), accuracy\n",
        "\n",
        "def run_training(model, criterion, optimizer, no_epochs):\n",
        "    train_loss = []\n",
        "    validation_loss = []\n",
        "    validation_accuracy = []\n",
        "    test_accuracy = []\n",
        "    for epoch_number in range(1, no_epochs+1):\n",
        "        train_loss.append(train(model, device, train_loader, \n",
        "                                optimizer, criterion, epoch_number))\n",
        "        val_loss, val_acc = test(model, device, validation_loader, \n",
        "                                criterion, 'Validation set')\n",
        "        validation_loss.append(val_loss)\n",
        "        validation_accuracy.append(val_acc)\n",
        "        # we also collect test accuracies for every epoch\n",
        "        _, test_acc = test(model, device, test_loader, criterion)\n",
        "        test_accuracy.append(test_acc)\n",
        "    # and select test accuracy for the best epoch (with the highest validation accuracy)\n",
        "    best_accuracy = test_accuracy[np.argmax(validation_accuracy)]\n",
        "    return train_loss, validation_loss, best_accuracy\n",
        "\n",
        "def plot_loss(train_loss, validation_loss, title):\n",
        "    plt.grid(True)\n",
        "    plt.xlabel(\"subsequent epochs\")\n",
        "    plt.ylabel('average loss')\n",
        "    plt.plot(range(1, len(train_loss)+1), train_loss, 'o-', label='training')\n",
        "    plt.plot(range(1, len(validation_loss)+1), validation_loss, 'o-', label='validation')\n",
        "    plt.legend()\n",
        "    plt.title(title)\n",
        "    plt.show()"
      ],
      "execution_count": 5,
      "outputs": []
    },
    {
      "cell_type": "markdown",
      "metadata": {
        "id": "wVfZwS4f4aYv"
      },
      "source": [
        "### Do the experiments"
      ]
    },
    {
      "cell_type": "code",
      "metadata": {
        "id": "yLTuDOj61zc9"
      },
      "source": [
        "device = torch.device(\"cuda\" if torch.cuda.is_available() else \"cpu\")\n",
        "\n",
        "model = SimpleCNN().to(device)\n",
        "criterion = nn.CrossEntropyLoss()\n",
        "optimizer = optim.SGD(model.parameters(), \n",
        "                      lr=model_args['lr'], \n",
        "                      momentum=model_args['momentum'],\n",
        "                      weight_decay=model_args['weight_decay'])\n",
        "no_epochs = model_args['epochs']\n",
        "\n",
        "train_loss, val_loss, best_accuracy = run_training(model, criterion, optimizer, no_epochs)\n",
        "\n",
        "print('\\nTest accuracy for best epoch: {:.0f}%\\n'.format(100.*best_accuracy))\n",
        "plot_loss(train_loss, val_loss, 'SimpleCNN model')"
      ],
      "execution_count": null,
      "outputs": []
    },
    {
      "cell_type": "code",
      "source": [
        "torch.save(model.state_dict(), './SimpleCNN_model.pth') "
      ],
      "metadata": {
        "id": "Gn-ZAUxxvDqL"
      },
      "execution_count": null,
      "outputs": []
    },
    {
      "cell_type": "code",
      "source": [
        "# np.savetxt(\"SimpleCNN.txt\",[train_loss,val_loss])\n",
        "np.savetxt(\"SimpleCNN_unnormalized.txt\",[train_loss,val_loss])"
      ],
      "metadata": {
        "id": "94aqAsc-rrc4"
      },
      "execution_count": null,
      "outputs": []
    },
    {
      "cell_type": "code",
      "metadata": {
        "id": "AeZn87FK_IKZ"
      },
      "source": [
        "device = torch.device(\"cuda\" if torch.cuda.is_available() else \"cpu\")\n",
        "\n",
        "model = VGG(make_layers(vgg_cfg['vgg11'])).to(device)\n",
        "criterion = nn.CrossEntropyLoss()\n",
        "optimizer = optim.SGD(model.parameters(), \n",
        "                      lr=model_args['lr'], \n",
        "                      momentum=.5,\n",
        "                      weight_decay=1.e-3)\n",
        "no_epochs = model_args['epochs']\n",
        "\n",
        "train_loss_11, val_loss_11, best_accuracy = run_training(model, criterion, optimizer, no_epochs)\n",
        "\n",
        "print('\\nTest accuracy for best epoch: {:.0f}%\\n'.format(100.*best_accuracy))\n",
        "plot_loss(train_loss_11, val_loss_11, 'VGG11 model')"
      ],
      "execution_count": null,
      "outputs": []
    },
    {
      "cell_type": "code",
      "source": [
        "# np.savetxt(\"VGG11.txt\",[train_loss_11,val_loss_11])\n",
        "np.savetxt(\"VGG11_unnormalized.txt\",[train_loss_11,val_loss_11])"
      ],
      "metadata": {
        "id": "jmq7JB2OskWz"
      },
      "execution_count": null,
      "outputs": []
    },
    {
      "cell_type": "code",
      "source": [
        "torch.save(model.state_dict(), './VGG11_model.pth') "
      ],
      "metadata": {
        "id": "LbXZdT2IvTzo"
      },
      "execution_count": null,
      "outputs": []
    },
    {
      "cell_type": "code",
      "metadata": {
        "id": "7kxtR7-sykaT"
      },
      "source": [
        "device = torch.device(\"cuda\" if torch.cuda.is_available() else \"cpu\")\n",
        "\n",
        "model = VGG(make_layers(vgg_cfg['vgg11'])).to(device)\n",
        "criterion = nn.CrossEntropyLoss()\n",
        "optimizer = optim.SGD(model.parameters(), \n",
        "                      lr=model_args['lr'], \n",
        "                      momentum=.9,\n",
        "                      weight_decay=0.)\n",
        "no_epochs = model_args['epochs']\n",
        "\n",
        "train_loss_11, val_loss_11, best_accuracy = run_training(model, criterion, optimizer, no_epochs)\n",
        "\n",
        "print('\\nTest accuracy for best epoch: {:.0f}%\\n'.format(100.*best_accuracy))\n",
        "plot_loss(train_loss_11, val_loss_11, 'VGG11 - altered model')"
      ],
      "execution_count": null,
      "outputs": []
    },
    {
      "cell_type": "code",
      "source": [
        "# np.savetxt(\"VGG11_v2.txt\",[train_loss_11,val_loss_11])\n",
        "np.savetxt(\"VGG11_v2_unnormalized.txt\",[train_loss_11,val_loss_11])"
      ],
      "metadata": {
        "id": "o_JmRI3eykaT"
      },
      "execution_count": null,
      "outputs": []
    },
    {
      "cell_type": "code",
      "source": [
        "torch.save(model.state_dict(), './VGG11_v2_model.pth') "
      ],
      "metadata": {
        "id": "5w1KvkoMykaT"
      },
      "execution_count": null,
      "outputs": []
    },
    {
      "cell_type": "code",
      "metadata": {
        "id": "wd8zSZVjDequ"
      },
      "source": [
        "device = torch.device(\"cuda\" if torch.cuda.is_available() else \"cpu\")\n",
        "\n",
        "model = VGG(make_layers(vgg_cfg['vgg16'])).to(device)\n",
        "criterion = nn.CrossEntropyLoss()\n",
        "optimizer = optim.SGD(model.parameters(), \n",
        "                      lr=model_args['lr'], \n",
        "                      momentum=model_args['momentum'],\n",
        "                      weight_decay=1.e-3)\n",
        "\n",
        "no_epochs = model_args['epochs']\n",
        "\n",
        "train_loss_16, val_loss_16, best_accuracy = run_training(model, criterion, optimizer, no_epochs)\n",
        "\n",
        "print('\\nTest accuracy for best epoch: {:.0f}%\\n'.format(100.*best_accuracy))\n",
        "plot_loss(train_loss_16, val_loss_16, 'VGG16 model')"
      ],
      "execution_count": null,
      "outputs": []
    },
    {
      "cell_type": "code",
      "source": [
        "# np.savetxt(\"VGG16.txt\",[train_loss_16,val_loss_16])\n",
        "np.savetxt(\"VGG16_unnormalized.txt\",[train_loss_16,val_loss_16])"
      ],
      "metadata": {
        "id": "4px32UuBuH0k"
      },
      "execution_count": null,
      "outputs": []
    },
    {
      "cell_type": "code",
      "source": [
        "torch.save(model.state_dict(), './VGG16_model.pth') "
      ],
      "metadata": {
        "id": "OFyP5o7_vYgO"
      },
      "execution_count": null,
      "outputs": []
    },
    {
      "cell_type": "code",
      "metadata": {
        "id": "GuO_W31Px48q",
        "colab": {
          "base_uri": "https://localhost:8080/",
          "height": 1000
        },
        "outputId": "2683cb1d-a8c3-4086-a8b2-ab40717b80b7"
      },
      "source": [
        "device = torch.device(\"cuda\" if torch.cuda.is_available() else \"cpu\")\n",
        "\n",
        "model = VGG(make_layers(vgg_cfg['vgg19'])).to(device)\n",
        "criterion = nn.CrossEntropyLoss()\n",
        "optimizer = optim.SGD(model.parameters(), \n",
        "                      lr=model_args['lr'], \n",
        "                      momentum=model_args['momentum'],\n",
        "                      weight_decay=1.e-3)\n",
        "\n",
        "no_epochs = model_args['epochs']\n",
        "\n",
        "train_loss_19, val_loss_19, best_accuracy = run_training(model, criterion, optimizer, no_epochs)\n",
        "\n",
        "print('\\nTest accuracy for best epoch: {:.0f}%\\n'.format(100.*best_accuracy))\n",
        "plot_loss(train_loss_19, val_loss_19, 'VGG19 model')"
      ],
      "execution_count": 6,
      "outputs": [
        {
          "output_type": "stream",
          "name": "stdout",
          "text": [
            "Train Epoch: 1\n",
            "\tTrain set: Average loss: 2.1399\n",
            "\tValidation set: Average loss: 1.9508, Accuracy: 1994/10000 (20%)\n",
            "Train Epoch: 2\n",
            "\tTrain set: Average loss: 1.9308\n",
            "\tValidation set: Average loss: 1.8960, Accuracy: 2314/10000 (23%)\n",
            "Train Epoch: 3\n",
            "\tTrain set: Average loss: 1.8626\n",
            "\tValidation set: Average loss: 1.7870, Accuracy: 2820/10000 (28%)\n",
            "Train Epoch: 4\n",
            "\tTrain set: Average loss: 1.8123\n",
            "\tValidation set: Average loss: 1.8551, Accuracy: 2249/10000 (22%)\n",
            "Train Epoch: 5\n",
            "\tTrain set: Average loss: 1.8781\n",
            "\tValidation set: Average loss: 1.8254, Accuracy: 2438/10000 (24%)\n",
            "Train Epoch: 6\n",
            "\tTrain set: Average loss: 1.7795\n",
            "\tValidation set: Average loss: 1.7557, Accuracy: 2700/10000 (27%)\n",
            "Train Epoch: 7\n",
            "\tTrain set: Average loss: 1.6669\n",
            "\tValidation set: Average loss: 1.7029, Accuracy: 2790/10000 (28%)\n",
            "Train Epoch: 8\n",
            "\tTrain set: Average loss: 1.6542\n",
            "\tValidation set: Average loss: 1.5903, Accuracy: 3458/10000 (35%)\n",
            "Train Epoch: 9\n",
            "\tTrain set: Average loss: 1.6127\n",
            "\tValidation set: Average loss: 1.5519, Accuracy: 3559/10000 (36%)\n",
            "Train Epoch: 10\n",
            "\tTrain set: Average loss: 1.5618\n",
            "\tValidation set: Average loss: 1.7427, Accuracy: 3150/10000 (32%)\n",
            "Train Epoch: 11\n",
            "\tTrain set: Average loss: 1.5273\n",
            "\tValidation set: Average loss: 1.3322, Accuracy: 4924/10000 (49%)\n",
            "Train Epoch: 12\n",
            "\tTrain set: Average loss: 1.4620\n",
            "\tValidation set: Average loss: 1.3904, Accuracy: 4752/10000 (48%)\n",
            "Train Epoch: 13\n",
            "\tTrain set: Average loss: 1.4003\n",
            "\tValidation set: Average loss: 1.3202, Accuracy: 5174/10000 (52%)\n",
            "Train Epoch: 14\n",
            "\tTrain set: Average loss: 1.3471\n",
            "\tValidation set: Average loss: 1.2889, Accuracy: 5272/10000 (53%)\n",
            "Train Epoch: 15\n",
            "\tTrain set: Average loss: 1.3075\n",
            "\tValidation set: Average loss: 1.4250, Accuracy: 4900/10000 (49%)\n",
            "Train Epoch: 16\n",
            "\tTrain set: Average loss: 1.2843\n",
            "\tValidation set: Average loss: 1.2828, Accuracy: 5617/10000 (56%)\n",
            "Train Epoch: 17\n",
            "\tTrain set: Average loss: 1.2277\n",
            "\tValidation set: Average loss: 1.1498, Accuracy: 6038/10000 (60%)\n",
            "Train Epoch: 18\n",
            "\tTrain set: Average loss: 1.2213\n",
            "\tValidation set: Average loss: 1.1552, Accuracy: 6053/10000 (61%)\n",
            "Train Epoch: 19\n",
            "\tTrain set: Average loss: 1.1918\n",
            "\tValidation set: Average loss: 1.1316, Accuracy: 5993/10000 (60%)\n",
            "Train Epoch: 20\n",
            "\tTrain set: Average loss: 1.1751\n",
            "\tValidation set: Average loss: 1.1587, Accuracy: 6129/10000 (61%)\n",
            "Train Epoch: 21\n",
            "\tTrain set: Average loss: 1.1593\n",
            "\tValidation set: Average loss: 1.1887, Accuracy: 6213/10000 (62%)\n",
            "Train Epoch: 22\n",
            "\tTrain set: Average loss: 1.1196\n",
            "\tValidation set: Average loss: 1.2002, Accuracy: 6107/10000 (61%)\n",
            "Train Epoch: 23\n",
            "\tTrain set: Average loss: 1.1399\n",
            "\tValidation set: Average loss: 1.3566, Accuracy: 5636/10000 (56%)\n",
            "Train Epoch: 24\n",
            "\tTrain set: Average loss: 1.0805\n",
            "\tValidation set: Average loss: 1.2672, Accuracy: 5690/10000 (57%)\n",
            "Train Epoch: 25\n",
            "\tTrain set: Average loss: 1.0405\n",
            "\tValidation set: Average loss: 1.1299, Accuracy: 6129/10000 (61%)\n",
            "Train Epoch: 26\n",
            "\tTrain set: Average loss: 1.0369\n",
            "\tValidation set: Average loss: 1.1271, Accuracy: 6359/10000 (64%)\n",
            "Train Epoch: 27\n",
            "\tTrain set: Average loss: 1.0472\n",
            "\tValidation set: Average loss: 1.0453, Accuracy: 6610/10000 (66%)\n",
            "Train Epoch: 28\n",
            "\tTrain set: Average loss: 1.0486\n",
            "\tValidation set: Average loss: 1.0483, Accuracy: 6564/10000 (66%)\n",
            "Train Epoch: 29\n",
            "\tTrain set: Average loss: 1.0474\n",
            "\tValidation set: Average loss: 1.1689, Accuracy: 6258/10000 (63%)\n",
            "Train Epoch: 30\n",
            "\tTrain set: Average loss: 0.9980\n",
            "\tValidation set: Average loss: 1.0611, Accuracy: 6789/10000 (68%)\n",
            "Train Epoch: 31\n",
            "\tTrain set: Average loss: 0.9752\n",
            "\tValidation set: Average loss: 0.9438, Accuracy: 7024/10000 (70%)\n",
            "Train Epoch: 32\n",
            "\tTrain set: Average loss: 0.9839\n",
            "\tValidation set: Average loss: 0.9556, Accuracy: 7021/10000 (70%)\n",
            "Train Epoch: 33\n",
            "\tTrain set: Average loss: 0.9905\n",
            "\tValidation set: Average loss: 1.0163, Accuracy: 6716/10000 (67%)\n",
            "Train Epoch: 34\n",
            "\tTrain set: Average loss: 0.9669\n",
            "\tValidation set: Average loss: 1.1816, Accuracy: 6488/10000 (65%)\n",
            "Train Epoch: 35\n",
            "\tTrain set: Average loss: 0.9801\n",
            "\tValidation set: Average loss: 0.9502, Accuracy: 7008/10000 (70%)\n",
            "Train Epoch: 36\n",
            "\tTrain set: Average loss: 0.9673\n",
            "\tValidation set: Average loss: 1.3577, Accuracy: 5850/10000 (58%)\n",
            "Train Epoch: 37\n",
            "\tTrain set: Average loss: 0.9872\n",
            "\tValidation set: Average loss: 1.0580, Accuracy: 6767/10000 (68%)\n",
            "Train Epoch: 38\n",
            "\tTrain set: Average loss: 0.9638\n",
            "\tValidation set: Average loss: 0.9508, Accuracy: 7043/10000 (70%)\n",
            "Train Epoch: 39\n",
            "\tTrain set: Average loss: 0.9343\n",
            "\tValidation set: Average loss: 0.9109, Accuracy: 7129/10000 (71%)\n",
            "Train Epoch: 40\n",
            "\tTrain set: Average loss: 0.9304\n",
            "\tValidation set: Average loss: 1.0561, Accuracy: 6705/10000 (67%)\n",
            "Train Epoch: 41\n",
            "\tTrain set: Average loss: 0.8987\n",
            "\tValidation set: Average loss: 0.9877, Accuracy: 6915/10000 (69%)\n",
            "Train Epoch: 42\n",
            "\tTrain set: Average loss: 0.9040\n",
            "\tValidation set: Average loss: 0.9208, Accuracy: 7246/10000 (72%)\n",
            "Train Epoch: 43\n",
            "\tTrain set: Average loss: 0.9115\n",
            "\tValidation set: Average loss: 0.8893, Accuracy: 7217/10000 (72%)\n",
            "Train Epoch: 44\n",
            "\tTrain set: Average loss: 0.9005\n",
            "\tValidation set: Average loss: 1.1187, Accuracy: 6547/10000 (65%)\n",
            "Train Epoch: 45\n",
            "\tTrain set: Average loss: 0.9153\n",
            "\tValidation set: Average loss: 0.8976, Accuracy: 7159/10000 (72%)\n",
            "Train Epoch: 46\n",
            "\tTrain set: Average loss: 0.9195\n",
            "\tValidation set: Average loss: 0.9321, Accuracy: 7192/10000 (72%)\n",
            "Train Epoch: 47\n",
            "\tTrain set: Average loss: 0.8814\n",
            "\tValidation set: Average loss: 0.8659, Accuracy: 7263/10000 (73%)\n",
            "Train Epoch: 48\n",
            "\tTrain set: Average loss: 0.8752\n",
            "\tValidation set: Average loss: 0.8853, Accuracy: 7246/10000 (72%)\n",
            "Train Epoch: 49\n",
            "\tTrain set: Average loss: 0.8783\n",
            "\tValidation set: Average loss: 0.9209, Accuracy: 7171/10000 (72%)\n",
            "Train Epoch: 50\n",
            "\tTrain set: Average loss: 0.9017\n",
            "\tValidation set: Average loss: 0.9496, Accuracy: 7180/10000 (72%)\n",
            "Train Epoch: 51\n",
            "\tTrain set: Average loss: 0.9154\n",
            "\tValidation set: Average loss: 0.9878, Accuracy: 6912/10000 (69%)\n",
            "Train Epoch: 52\n",
            "\tTrain set: Average loss: 0.8762\n",
            "\tValidation set: Average loss: 0.8577, Accuracy: 7353/10000 (74%)\n",
            "Train Epoch: 53\n",
            "\tTrain set: Average loss: 0.8612\n",
            "\tValidation set: Average loss: 0.8523, Accuracy: 7354/10000 (74%)\n",
            "Train Epoch: 54\n",
            "\tTrain set: Average loss: 0.8396\n",
            "\tValidation set: Average loss: 0.8989, Accuracy: 7233/10000 (72%)\n",
            "Train Epoch: 55\n",
            "\tTrain set: Average loss: 0.8300\n",
            "\tValidation set: Average loss: 0.9474, Accuracy: 7055/10000 (71%)\n",
            "Train Epoch: 56\n",
            "\tTrain set: Average loss: 0.8667\n",
            "\tValidation set: Average loss: 1.0779, Accuracy: 6935/10000 (69%)\n",
            "Train Epoch: 57\n",
            "\tTrain set: Average loss: 0.8459\n",
            "\tValidation set: Average loss: 0.8165, Accuracy: 7471/10000 (75%)\n",
            "Train Epoch: 58\n",
            "\tTrain set: Average loss: 0.8438\n",
            "\tValidation set: Average loss: 0.8529, Accuracy: 7409/10000 (74%)\n",
            "Train Epoch: 59\n",
            "\tTrain set: Average loss: 0.8470\n",
            "\tValidation set: Average loss: 0.8398, Accuracy: 7391/10000 (74%)\n",
            "Train Epoch: 60\n",
            "\tTrain set: Average loss: 0.8467\n",
            "\tValidation set: Average loss: 0.9033, Accuracy: 7262/10000 (73%)\n",
            "\n",
            "Test accuracy for best epoch: 75%\n",
            "\n"
          ]
        },
        {
          "output_type": "display_data",
          "data": {
            "text/plain": [
              "<Figure size 640x480 with 1 Axes>"
            ],
            "image/png": "[encoded data removed]"
          },
          "metadata": {}
        }
      ]
    },
    {
      "cell_type": "code",
      "source": [
        "np.savetxt(\"VGG19.txt\",[train_loss_19,val_loss_19])\n",
        "# np.savetxt(\"VGG19_unnormalized.txt\",[train_loss_19,val_loss_19])"
      ],
      "metadata": {
        "id": "XQlvThKFx48q"
      },
      "execution_count": 7,
      "outputs": []
    },
    {
      "cell_type": "code",
      "source": [
        "torch.save(model.state_dict(), './VGG19_model.pth') "
      ],
      "metadata": {
        "id": "JaAJs2Y3x48q"
      },
      "execution_count": null,
      "outputs": []
    },
    {
      "cell_type": "code",
      "source": [
        "model_args['lr']/2."
      ],
      "metadata": {
        "colab": {
          "base_uri": "https://localhost:8080/"
        },
        "id": "WG8uS8uPYrW2",
        "outputId": "fc0100fd-a88a-4a97-efed-e4bf34b5e9b6"
      },
      "execution_count": null,
      "outputs": [
        {
          "output_type": "execute_result",
          "data": {
            "text/plain": [
              "0.025"
            ]
          },
          "metadata": {},
          "execution_count": 9
        }
      ]
    },
    {
      "cell_type": "code",
      "source": [
        "model_args['lr']"
      ],
      "metadata": {
        "id": "mLcMybeqYtrl"
      },
      "execution_count": null,
      "outputs": []
    },
    {
      "cell_type": "code",
      "metadata": {
        "id": "s1LVglaoyEYV",
        "colab": {
          "base_uri": "https://localhost:8080/",
          "height": 1000
        },
        "outputId": "afd1cd53-0a13-423b-ca6e-a7b8d27f9a67"
      },
      "source": [
        "device = torch.device(\"cuda\" if torch.cuda.is_available() else \"cpu\")\n",
        "\n",
        "model = VGG(make_layers(vgg_cfg['vgg22'])).to(device)\n",
        "criterion = nn.CrossEntropyLoss()\n",
        "optimizer = optim.SGD(model.parameters(), \n",
        "                      lr=model_args['lr'], \n",
        "                      momentum=0.5,\n",
        "                      weight_decay=1.e-3)\n",
        "\n",
        "no_epochs = model_args['epochs']\n",
        "\n",
        "train_loss_22, val_loss_22, best_accuracy = run_training(model, criterion, optimizer, no_epochs)\n",
        "\n",
        "print('\\nTest accuracy for best epoch: {:.0f}%\\n'.format(100.*best_accuracy))\n",
        "plot_loss(train_loss_22, val_loss_22, 'VGG22 model')"
      ],
      "execution_count": 9,
      "outputs": [
        {
          "output_type": "stream",
          "name": "stdout",
          "text": [
            "Train Epoch: 1\n",
            "\tTrain set: Average loss: 2.2916\n",
            "\tValidation set: Average loss: 2.3034, Accuracy: 983/10000 (10%)\n",
            "Train Epoch: 2\n",
            "\tTrain set: Average loss: 2.3031\n",
            "\tValidation set: Average loss: 2.3031, Accuracy: 988/10000 (10%)\n",
            "Train Epoch: 3\n",
            "\tTrain set: Average loss: 2.3029\n",
            "\tValidation set: Average loss: 2.3028, Accuracy: 1009/10000 (10%)\n",
            "Train Epoch: 4\n",
            "\tTrain set: Average loss: 2.3030\n",
            "\tValidation set: Average loss: 2.3028, Accuracy: 1000/10000 (10%)\n",
            "Train Epoch: 5\n",
            "\tTrain set: Average loss: 2.3031\n",
            "\tValidation set: Average loss: 2.3029, Accuracy: 983/10000 (10%)\n",
            "Train Epoch: 6\n",
            "\tTrain set: Average loss: 2.3031\n",
            "\tValidation set: Average loss: 2.3033, Accuracy: 982/10000 (10%)\n",
            "Train Epoch: 7\n",
            "\tTrain set: Average loss: 2.3031\n",
            "\tValidation set: Average loss: 2.3028, Accuracy: 982/10000 (10%)\n",
            "Train Epoch: 8\n",
            "\tTrain set: Average loss: 2.3030\n",
            "\tValidation set: Average loss: 2.3028, Accuracy: 980/10000 (10%)\n",
            "Train Epoch: 9\n",
            "\tTrain set: Average loss: 2.3030\n",
            "\tValidation set: Average loss: 2.3027, Accuracy: 1000/10000 (10%)\n",
            "Train Epoch: 10\n",
            "\tTrain set: Average loss: 2.3031\n",
            "\tValidation set: Average loss: 2.3028, Accuracy: 982/10000 (10%)\n",
            "Train Epoch: 11\n",
            "\tTrain set: Average loss: 2.3031\n",
            "\tValidation set: Average loss: 2.3029, Accuracy: 988/10000 (10%)\n",
            "Train Epoch: 12\n",
            "\tTrain set: Average loss: 2.3030\n",
            "\tValidation set: Average loss: 2.3032, Accuracy: 1006/10000 (10%)\n",
            "Train Epoch: 13\n",
            "\tTrain set: Average loss: 2.3030\n",
            "\tValidation set: Average loss: 2.3030, Accuracy: 982/10000 (10%)\n",
            "Train Epoch: 14\n",
            "\tTrain set: Average loss: 2.3030\n",
            "\tValidation set: Average loss: 2.3033, Accuracy: 983/10000 (10%)\n",
            "Train Epoch: 15\n",
            "\tTrain set: Average loss: 2.3031\n",
            "\tValidation set: Average loss: 2.3029, Accuracy: 988/10000 (10%)\n",
            "Train Epoch: 16\n",
            "\tTrain set: Average loss: 2.3031\n",
            "\tValidation set: Average loss: 2.3028, Accuracy: 1006/10000 (10%)\n",
            "Train Epoch: 17\n",
            "\tTrain set: Average loss: 2.3031\n",
            "\tValidation set: Average loss: 2.3028, Accuracy: 983/10000 (10%)\n",
            "Train Epoch: 18\n",
            "\tTrain set: Average loss: 2.3031\n",
            "\tValidation set: Average loss: 2.3027, Accuracy: 988/10000 (10%)\n",
            "Train Epoch: 19\n",
            "\tTrain set: Average loss: 2.3031\n",
            "\tValidation set: Average loss: 2.3029, Accuracy: 1006/10000 (10%)\n",
            "Train Epoch: 20\n",
            "\tTrain set: Average loss: 2.3031\n",
            "\tValidation set: Average loss: 2.3028, Accuracy: 983/10000 (10%)\n",
            "Train Epoch: 21\n",
            "\tTrain set: Average loss: 2.3030\n",
            "\tValidation set: Average loss: 2.3032, Accuracy: 980/10000 (10%)\n",
            "Train Epoch: 22\n",
            "\tTrain set: Average loss: 2.3029\n",
            "\tValidation set: Average loss: 2.3036, Accuracy: 1000/10000 (10%)\n",
            "Train Epoch: 23\n",
            "\tTrain set: Average loss: 2.3030\n",
            "\tValidation set: Average loss: 2.3032, Accuracy: 982/10000 (10%)\n",
            "Train Epoch: 24\n",
            "\tTrain set: Average loss: 2.3031\n",
            "\tValidation set: Average loss: 2.3029, Accuracy: 1009/10000 (10%)\n",
            "Train Epoch: 25\n",
            "\tTrain set: Average loss: 2.3030\n",
            "\tValidation set: Average loss: 2.3029, Accuracy: 982/10000 (10%)\n",
            "Train Epoch: 26\n",
            "\tTrain set: Average loss: 2.3030\n",
            "\tValidation set: Average loss: 2.3029, Accuracy: 1000/10000 (10%)\n",
            "Train Epoch: 27\n",
            "\tTrain set: Average loss: 2.3030\n",
            "\tValidation set: Average loss: 2.3032, Accuracy: 988/10000 (10%)\n",
            "Train Epoch: 28\n",
            "\tTrain set: Average loss: 2.3030\n",
            "\tValidation set: Average loss: 2.3029, Accuracy: 982/10000 (10%)\n",
            "Train Epoch: 29\n",
            "\tTrain set: Average loss: 2.3030\n",
            "\tValidation set: Average loss: 2.3028, Accuracy: 980/10000 (10%)\n",
            "Train Epoch: 30\n",
            "\tTrain set: Average loss: 2.3030\n",
            "\tValidation set: Average loss: 2.3027, Accuracy: 1000/10000 (10%)\n",
            "Train Epoch: 31\n",
            "\tTrain set: Average loss: 2.3030\n",
            "\tValidation set: Average loss: 2.3029, Accuracy: 1000/10000 (10%)\n",
            "Train Epoch: 32\n",
            "\tTrain set: Average loss: 2.3031\n",
            "\tValidation set: Average loss: 2.3029, Accuracy: 1000/10000 (10%)\n",
            "Train Epoch: 33\n",
            "\tTrain set: Average loss: 2.3031\n",
            "\tValidation set: Average loss: 2.3029, Accuracy: 1000/10000 (10%)\n",
            "Train Epoch: 34\n",
            "\tTrain set: Average loss: 2.3029\n",
            "\tValidation set: Average loss: 2.3029, Accuracy: 983/10000 (10%)\n",
            "Train Epoch: 35\n",
            "\tTrain set: Average loss: 2.3030\n",
            "\tValidation set: Average loss: 2.3032, Accuracy: 980/10000 (10%)\n",
            "Train Epoch: 36\n",
            "\tTrain set: Average loss: 2.3031\n",
            "\tValidation set: Average loss: 2.3029, Accuracy: 983/10000 (10%)\n",
            "Train Epoch: 37\n",
            "\tTrain set: Average loss: 2.3030\n",
            "\tValidation set: Average loss: 2.3027, Accuracy: 1031/10000 (10%)\n",
            "Train Epoch: 38\n",
            "\tTrain set: Average loss: 2.3030\n",
            "\tValidation set: Average loss: 2.3033, Accuracy: 982/10000 (10%)\n",
            "Train Epoch: 39\n",
            "\tTrain set: Average loss: 2.3031\n",
            "\tValidation set: Average loss: 2.3026, Accuracy: 1009/10000 (10%)\n",
            "Train Epoch: 40\n",
            "\tTrain set: Average loss: 2.3029\n",
            "\tValidation set: Average loss: 2.3034, Accuracy: 988/10000 (10%)\n",
            "Train Epoch: 41\n",
            "\tTrain set: Average loss: 2.3031\n",
            "\tValidation set: Average loss: 2.3027, Accuracy: 982/10000 (10%)\n",
            "Train Epoch: 42\n",
            "\tTrain set: Average loss: 2.3031\n",
            "\tValidation set: Average loss: 2.3028, Accuracy: 1006/10000 (10%)\n",
            "Train Epoch: 43\n",
            "\tTrain set: Average loss: 2.3031\n",
            "\tValidation set: Average loss: 2.3029, Accuracy: 1022/10000 (10%)\n",
            "Train Epoch: 44\n",
            "\tTrain set: Average loss: 2.3031\n",
            "\tValidation set: Average loss: 2.3031, Accuracy: 1000/10000 (10%)\n",
            "Train Epoch: 45\n",
            "\tTrain set: Average loss: 2.3029\n",
            "\tValidation set: Average loss: 2.3031, Accuracy: 1009/10000 (10%)\n",
            "Train Epoch: 46\n",
            "\tTrain set: Average loss: 2.3029\n",
            "\tValidation set: Average loss: 2.3030, Accuracy: 983/10000 (10%)\n",
            "Train Epoch: 47\n",
            "\tTrain set: Average loss: 2.3030\n",
            "\tValidation set: Average loss: 2.3028, Accuracy: 1031/10000 (10%)\n",
            "Train Epoch: 48\n",
            "\tTrain set: Average loss: 2.3029\n",
            "\tValidation set: Average loss: 2.3030, Accuracy: 1022/10000 (10%)\n",
            "Train Epoch: 49\n",
            "\tTrain set: Average loss: 2.3030\n",
            "\tValidation set: Average loss: 2.3028, Accuracy: 983/10000 (10%)\n",
            "Train Epoch: 50\n",
            "\tTrain set: Average loss: 2.3030\n",
            "\tValidation set: Average loss: 2.3033, Accuracy: 999/10000 (10%)\n",
            "Train Epoch: 51\n",
            "\tTrain set: Average loss: 2.3030\n",
            "\tValidation set: Average loss: 2.3028, Accuracy: 980/10000 (10%)\n",
            "Train Epoch: 52\n",
            "\tTrain set: Average loss: 2.3030\n",
            "\tValidation set: Average loss: 2.3028, Accuracy: 1022/10000 (10%)\n",
            "Train Epoch: 53\n",
            "\tTrain set: Average loss: 2.3030\n",
            "\tValidation set: Average loss: 2.3030, Accuracy: 980/10000 (10%)\n",
            "Train Epoch: 54\n",
            "\tTrain set: Average loss: 2.3031\n",
            "\tValidation set: Average loss: 2.3031, Accuracy: 983/10000 (10%)\n",
            "Train Epoch: 55\n",
            "\tTrain set: Average loss: 2.3031\n",
            "\tValidation set: Average loss: 2.3030, Accuracy: 983/10000 (10%)\n",
            "Train Epoch: 56\n",
            "\tTrain set: Average loss: 2.3031\n",
            "\tValidation set: Average loss: 2.3027, Accuracy: 999/10000 (10%)\n",
            "Train Epoch: 57\n",
            "\tTrain set: Average loss: 2.3030\n",
            "\tValidation set: Average loss: 2.3031, Accuracy: 980/10000 (10%)\n",
            "Train Epoch: 58\n",
            "\tTrain set: Average loss: 2.3029\n",
            "\tValidation set: Average loss: 2.3034, Accuracy: 980/10000 (10%)\n",
            "Train Epoch: 59\n",
            "\tTrain set: Average loss: 2.3031\n",
            "\tValidation set: Average loss: 2.3030, Accuracy: 1000/10000 (10%)\n",
            "Train Epoch: 60\n",
            "\tTrain set: Average loss: 2.3031\n",
            "\tValidation set: Average loss: 2.3027, Accuracy: 999/10000 (10%)\n",
            "\n",
            "Test accuracy for best epoch: 10%\n",
            "\n"
          ]
        },
        {
          "output_type": "display_data",
          "data": {
            "text/plain": [
              "<Figure size 640x480 with 1 Axes>"
            ],
            "image/png": "[encoded data removed]"
          },
          "metadata": {}
        }
      ]
    },
    {
      "cell_type": "code",
      "source": [
        "np.savetxt(\"VGG22_0.5lr.txt\",[train_loss_22,val_loss_22])\n",
        "# np.savetxt(\"VGG22_unnormalized.txt\",[train_loss_22,val_loss_22])"
      ],
      "metadata": {
        "id": "gHFeJod3yEYW"
      },
      "execution_count": null,
      "outputs": []
    },
    {
      "cell_type": "code",
      "source": [
        "torch.save(model.state_dict(), './VGG22_model.pth') "
      ],
      "metadata": {
        "id": "zTYLotKryEYW"
      },
      "execution_count": null,
      "outputs": []
    },
    {
      "cell_type": "markdown",
      "metadata": {
        "id": "4EuqaO5aTs3U"
      },
      "source": [
        "Now compare training curves for both VGGs:"
      ]
    },
    {
      "cell_type": "code",
      "source": [
        "plt.grid(True)\n",
        "plt.xlabel(\"subsequent epochs\")\n",
        "plt.ylabel('average loss')\n",
        "plt.plot(range(1, len(train_loss_11)+1), train_loss_11, 'o-', label='train_VGG11')\n",
        "plt.plot(range(1, len(val_loss_11)+1), val_loss_11, 'o-', label='val_VGG11')\n",
        "plt.plot(range(1, len(train_loss_16)+1), train_loss_16, 'o-', label='train_VGG16')\n",
        "plt.plot(range(1, len(val_loss_16)+1), val_loss_16, 'o-', label='val_VGG16')\n",
        "plt.legend()\n",
        "plt.title(\"VGGs comparison - unnormalized\")\n",
        "plt.show()"
      ],
      "metadata": {
        "id": "0JUSGCma5YQP"
      },
      "execution_count": null,
      "outputs": []
    },
    {
      "cell_type": "code",
      "metadata": {
        "id": "DSfy60K4Tl81"
      },
      "source": [
        "plt.grid(True)\n",
        "plt.xlabel(\"subsequent epochs\")\n",
        "plt.ylabel('average loss')\n",
        "plt.plot(range(1, len(train_loss_11)+1), train_loss_11, 'o-', label='train_VGG11')\n",
        "plt.plot(range(1, len(val_loss_11)+1), val_loss_11, 'o-', label='val_VGG11')\n",
        "plt.plot(range(1, len(train_loss_16)+1), train_loss_16, 'o-', label='train_VGG16')\n",
        "plt.plot(range(1, len(val_loss_16)+1), val_loss_16, 'o-', label='val_VGG16')\n",
        "plt.legend()\n",
        "plt.title(\"VGGs comparison\")\n",
        "plt.show()"
      ],
      "execution_count": null,
      "outputs": []
    },
    {
      "cell_type": "markdown",
      "metadata": {
        "id": "9kA4AWhSAltR"
      },
      "source": [
        "Let's check residual network: ResNet\n",
        "- implementarion borrowed from https://github.com/kuangliu/pytorch-cifar/blob/master/models/resnet.py"
      ]
    },
    {
      "cell_type": "code",
      "metadata": {
        "id": "cgMExRjiatW8"
      },
      "source": [
        "class BasicBlock(nn.Module):\n",
        "    expansion = 1\n",
        "\n",
        "    def __init__(self, in_planes, planes, stride=1):\n",
        "        super(BasicBlock, self).__init__()\n",
        "        self.conv1 = nn.Conv2d(\n",
        "            in_planes, planes, kernel_size=3, stride=stride, padding=1, bias=False)\n",
        "        self.bn1 = nn.BatchNorm2d(planes)\n",
        "        self.conv2 = nn.Conv2d(planes, planes, kernel_size=3,\n",
        "                               stride=1, padding=1, bias=False)\n",
        "        self.bn2 = nn.BatchNorm2d(planes)\n",
        "\n",
        "        self.shortcut = nn.Sequential()\n",
        "        if stride != 1 or in_planes != self.expansion*planes:\n",
        "            self.shortcut = nn.Sequential(\n",
        "                nn.Conv2d(in_planes, self.expansion*planes,\n",
        "                          kernel_size=1, stride=stride, bias=False),\n",
        "                nn.BatchNorm2d(self.expansion*planes)\n",
        "            )\n",
        "\n",
        "    def forward(self, x):\n",
        "        out = F.relu(self.bn1(self.conv1(x)))\n",
        "        out = self.bn2(self.conv2(out))\n",
        "        out += self.shortcut(x)\n",
        "        out = F.relu(out)\n",
        "        return out\n",
        "\n",
        "class ResNet(nn.Module):\n",
        "    def __init__(self, block, num_blocks, num_classes=10):\n",
        "        super(ResNet, self).__init__()\n",
        "        self.in_planes = 64\n",
        "\n",
        "        self.conv1 = nn.Conv2d(3, 64, kernel_size=3,\n",
        "                               stride=1, padding=1, bias=False)\n",
        "        self.bn1 = nn.BatchNorm2d(64)\n",
        "        self.layer1 = self._make_layer(block, 64, num_blocks[0], stride=1)\n",
        "        self.layer2 = self._make_layer(block, 128, num_blocks[1], stride=2)\n",
        "        self.layer3 = self._make_layer(block, 256, num_blocks[2], stride=2)\n",
        "        self.layer4 = self._make_layer(block, 512, num_blocks[3], stride=2)\n",
        "        self.linear = nn.Linear(512*block.expansion, num_classes)\n",
        "\n",
        "    def _make_layer(self, block, planes, num_blocks, stride):\n",
        "        strides = [stride] + [1]*(num_blocks-1)\n",
        "        layers = []\n",
        "        for stride in strides:\n",
        "            layers.append(block(self.in_planes, planes, stride))\n",
        "            self.in_planes = planes * block.expansion\n",
        "        return nn.Sequential(*layers)\n",
        "\n",
        "    def forward(self, x):\n",
        "        out = F.relu(self.bn1(self.conv1(x)))\n",
        "        out = self.layer1(out)\n",
        "        out = self.layer2(out)\n",
        "        out = self.layer3(out)\n",
        "        out = self.layer4(out)\n",
        "        out = F.avg_pool2d(out, 4)\n",
        "        out = out.view(out.size(0), -1)\n",
        "        out = self.linear(out)\n",
        "        return out\n",
        "\n",
        "def ResNet18():\n",
        "    return ResNet(BasicBlock, [2, 2, 2, 2])\n",
        "\n",
        "def ResNet34():\n",
        "    return ResNet(BasicBlock, [3, 4, 6, 3])"
      ],
      "execution_count": null,
      "outputs": []
    },
    {
      "cell_type": "code",
      "metadata": {
        "id": "2eWcHpka47ZB"
      },
      "source": [
        "device = torch.device(\"cuda\" if torch.cuda.is_available() else \"cpu\")\n",
        "\n",
        "model = ResNet18().to(device)\n",
        "criterion = nn.CrossEntropyLoss()\n",
        "optimizer = optim.SGD(model.parameters(), \n",
        "                      lr=model_args['lr'], \n",
        "                      momentum=model_args['momentum'],\n",
        "                      weight_decay=1.e-3)\n",
        "\n",
        "no_epochs = model_args['epochs']\n",
        "\n",
        "train_loss, validation_loss, best_accuracy = run_training(model, criterion, optimizer, no_epochs)\n",
        "\n",
        "print('\\nTest accuracy for best epoch: {:.0f}%\\n'.format(100.*best_accuracy))\n",
        "plot_loss(train_loss, validation_loss, 'ResNet18 model')"
      ],
      "execution_count": null,
      "outputs": []
    },
    {
      "cell_type": "code",
      "source": [
        "np.savetxt(\"ResNet18.txt\",[train_loss,validation_loss])"
      ],
      "metadata": {
        "id": "4iWWPH5Kvmo_"
      },
      "execution_count": null,
      "outputs": []
    },
    {
      "cell_type": "code",
      "source": [
        "torch.save(model.state_dict(), './ResNet18_model.pth') "
      ],
      "metadata": {
        "id": "sGLUDVrevmo_"
      },
      "execution_count": null,
      "outputs": []
    },
    {
      "cell_type": "code",
      "source": [
        "device = torch.device(\"cuda\" if torch.cuda.is_available() else \"cpu\")\n",
        "\n",
        "model = ResNet34().to(device)\n",
        "criterion = nn.CrossEntropyLoss()\n",
        "optimizer = optim.SGD(model.parameters(), \n",
        "                      lr=model_args['lr'], \n",
        "                      momentum=model_args['momentum'],\n",
        "                      weight_decay=1.e-3)\n",
        "\n",
        "no_epochs = model_args['epochs']\n",
        "\n",
        "train_loss, validation_loss, best_accuracy = run_training(model, criterion, optimizer, no_epochs)\n",
        "\n",
        "print('\\nTest accuracy for best epoch: {:.0f}%\\n'.format(100.*best_accuracy))\n",
        "plot_loss(train_loss, validation_loss, 'ResNet34 model')"
      ],
      "metadata": {
        "id": "uBozSQuobIZF"
      },
      "execution_count": null,
      "outputs": []
    },
    {
      "cell_type": "code",
      "source": [
        "np.savetxt(\"ResNet34.txt\",[train_loss,validation_loss])"
      ],
      "metadata": {
        "id": "qgXKiVD7bJUJ"
      },
      "execution_count": null,
      "outputs": []
    },
    {
      "cell_type": "markdown",
      "source": [
        "Now let's play with **transfer learning**. Compare our results with Resnet18 from *Torchvision* package with pretrained weights (i.e. pretrained=True)\n",
        "* pretrained model needs to be tuned (to be comparable with previous one)"
      ],
      "metadata": {
        "id": "XwCbtxbLz60p"
      }
    },
    {
      "cell_type": "code",
      "source": [
        "import torchvision.models.resnet as resnet\n",
        "model = resnet.resnet18(pretrained=True)\n",
        "print(model)\n",
        "model.conv1 = nn.Conv2d(3, 64, kernel_size=(3, 3), stride=(1, 1), padding=(1, 1), bias=False)\n",
        "model.bn1 = nn.BatchNorm2d(64, eps=1e-05, momentum=0.1, affine=True, track_running_stats=True)\n",
        "model.relu = nn.Identity()  # only input layers\n",
        "model.maxpool = nn.Identity()  # only in input layers\n",
        "model.fc = nn.Linear(512, 10)\n",
        "\n",
        "device = torch.device(\"cuda\" if torch.cuda.is_available() else \"cpu\")\n",
        "model = model.to(device)\n",
        "\n",
        "criterion = nn.CrossEntropyLoss()\n",
        "optimizer = optim.SGD(model.parameters(), \n",
        "                      lr=model_args['lr'], \n",
        "                      momentum=model_args['momentum'],\n",
        "                      weight_decay=1.e-3)\n",
        "\n",
        "no_epochs = model_args['epochs']\n",
        "\n",
        "train_loss, validation_loss, best_accuracy = run_training(model, criterion, optimizer, no_epochs)\n",
        "\n",
        "print('\\nTest accuracy for best epoch: {:.0f}%\\n'.format(100.*best_accuracy))\n",
        "plot_loss(train_loss, validation_loss, 'ResNet18 pretrained model')"
      ],
      "metadata": {
        "id": "PBUTfHd3z7-y"
      },
      "execution_count": null,
      "outputs": []
    },
    {
      "cell_type": "code",
      "source": [
        "np.savetxt(\"ResNet18_tranfser.txt\",[train_loss,validation_loss])"
      ],
      "metadata": {
        "id": "lobqrkbmQhCV"
      },
      "execution_count": null,
      "outputs": []
    },
    {
      "cell_type": "markdown",
      "metadata": {
        "id": "0QoGFpkNJQJA"
      },
      "source": [
        "## Tasks to do:\n",
        "\n",
        "1. Check turning off the data normalization -- how this impacts network training.\n",
        "2. What happens if we put *weight_decay* = 0. and increase *momentum* to .9 for VGG11 model -- why is that? (hint: observe interplay between *learning rate* and *momentum*)\n",
        "3. Try to explain why the deeper VGG16 network trains longer than VGG11.\n",
        "4. Compare with performance for deeper VGGs: 19 or 22 -- do we observe saturation in accuracy or even *degradation* problem?\n",
        "5. Does ResNet18 (with similar depth) perform better, what for ResNet34? What about training time in this case?\n",
        "6. Does transfer learning speed up training?\n",
        "\n",
        "---\n",
        "\n",
        "## Additional comments/tasks\n",
        "In some situations (especially when training large models), it can be useful to save the trained model (its parameters) for future evaluation. A common method is to save the model after each epoch, and then use the one with the lowest validation error.<br>\n",
        "To save/load model parameters, we can use:\n",
        "```python\n",
        "torch.save(model.state_dict(), './model.pth') \n",
        "```\n",
        "then later\n",
        "```python\n",
        "model = TheModelClass()\n",
        "model.load_state_dict(torch.load('./model.pth'))\n",
        "model.eval()\n",
        "```\n",
        "\n",
        "Having model's parameters can be used to visualize conv layer kernels. We can access each model parameter through:\n",
        "```python\n",
        "for name, param in model.named_parameters():\n",
        "    if param.requires_grad:\n",
        "        print(name, param.data)\n",
        "```\n",
        "or just print out given layer, e.g. in *SimpleCNN*, we can acces to its kernels via:\n",
        "```python\n",
        "print(conv1.weight)\n",
        "```\n",
        "- try to visualize them\n",
        "- how many different kernels do we have in a given layer, why is that?\n",
        "\n",
        "\n",
        "To analyze the model structure *torch-summary* package can be usefull:\n"
      ]
    },
    {
      "cell_type": "code",
      "source": [
        "from torchsummary import summary\n",
        "\n",
        "device = torch.device(\"cuda\" if torch.cuda.is_available() else \"cpu\")\n",
        "model = SimpleCNN().to(device)\n",
        "summary(model, input_size=(3, 32, 32))"
      ],
      "metadata": {
        "id": "kxuUyGwlzscR",
        "colab": {
          "base_uri": "https://localhost:8080/"
        },
        "outputId": "bbde0570-7937-483d-feed-09ad35870386"
      },
      "execution_count": null,
      "outputs": [
        {
          "output_type": "stream",
          "name": "stdout",
          "text": [
            "----------------------------------------------------------------\n",
            "        Layer (type)               Output Shape         Param #\n",
            "================================================================\n",
            "            Conv2d-1            [-1, 6, 28, 28]             456\n",
            "         MaxPool2d-2            [-1, 6, 14, 14]               0\n",
            "            Conv2d-3           [-1, 16, 10, 10]           2,416\n",
            "         MaxPool2d-4             [-1, 16, 5, 5]               0\n",
            "            Linear-5                  [-1, 120]          48,120\n",
            "            Linear-6                   [-1, 80]           9,680\n",
            "            Linear-7                   [-1, 10]             810\n",
            "================================================================\n",
            "Total params: 61,482\n",
            "Trainable params: 61,482\n",
            "Non-trainable params: 0\n",
            "----------------------------------------------------------------\n",
            "Input size (MB): 0.01\n",
            "Forward/backward pass size (MB): 0.06\n",
            "Params size (MB): 0.23\n",
            "Estimated Total Size (MB): 0.31\n",
            "----------------------------------------------------------------\n"
          ]
        }
      ]
    },
    {
      "cell_type": "code",
      "source": [
        "for name, param in model.named_parameters():\n",
        "    if param.requires_grad:\n",
        "        print(name)"
      ],
      "metadata": {
        "colab": {
          "base_uri": "https://localhost:8080/"
        },
        "id": "xbSjIb1qJIsQ",
        "outputId": "5f8e45ce-a0d5-450b-8015-eca04bb416f0"
      },
      "execution_count": null,
      "outputs": [
        {
          "output_type": "stream",
          "name": "stdout",
          "text": [
            "conv1.weight\n",
            "conv1.bias\n",
            "conv2.weight\n",
            "conv2.bias\n",
            "fc1.weight\n",
            "fc1.bias\n",
            "fc2.weight\n",
            "fc2.bias\n",
            "fc3.weight\n",
            "fc3.bias\n"
          ]
        }
      ]
    },
    {
      "cell_type": "code",
      "source": [
        "model = VGG(make_layers(vgg_cfg['vgg11'])).to(device)\n",
        "summary(model, input_size=(3, 32, 32))"
      ],
      "metadata": {
        "colab": {
          "base_uri": "https://localhost:8080/"
        },
        "id": "FOlHJYOeICHy",
        "outputId": "c6c98e48-83c9-4178-f727-1f94c7263946"
      },
      "execution_count": null,
      "outputs": [
        {
          "output_type": "stream",
          "name": "stdout",
          "text": [
            "----------------------------------------------------------------\n",
            "        Layer (type)               Output Shape         Param #\n",
            "================================================================\n",
            "            Conv2d-1           [-1, 64, 32, 32]           1,792\n",
            "              ReLU-2           [-1, 64, 32, 32]               0\n",
            "         MaxPool2d-3           [-1, 64, 16, 16]               0\n",
            "            Conv2d-4          [-1, 128, 16, 16]          73,856\n",
            "              ReLU-5          [-1, 128, 16, 16]               0\n",
            "         MaxPool2d-6            [-1, 128, 8, 8]               0\n",
            "            Conv2d-7            [-1, 256, 8, 8]         295,168\n",
            "              ReLU-8            [-1, 256, 8, 8]               0\n",
            "            Conv2d-9            [-1, 256, 8, 8]         590,080\n",
            "             ReLU-10            [-1, 256, 8, 8]               0\n",
            "        MaxPool2d-11            [-1, 256, 4, 4]               0\n",
            "           Conv2d-12            [-1, 512, 4, 4]       1,180,160\n",
            "             ReLU-13            [-1, 512, 4, 4]               0\n",
            "           Conv2d-14            [-1, 512, 4, 4]       2,359,808\n",
            "             ReLU-15            [-1, 512, 4, 4]               0\n",
            "        MaxPool2d-16            [-1, 512, 2, 2]               0\n",
            "           Conv2d-17            [-1, 512, 2, 2]       2,359,808\n",
            "             ReLU-18            [-1, 512, 2, 2]               0\n",
            "           Conv2d-19            [-1, 512, 2, 2]       2,359,808\n",
            "             ReLU-20            [-1, 512, 2, 2]               0\n",
            "        MaxPool2d-21            [-1, 512, 1, 1]               0\n",
            "          Dropout-22                  [-1, 512]               0\n",
            "           Linear-23                  [-1, 512]         262,656\n",
            "             ReLU-24                  [-1, 512]               0\n",
            "          Dropout-25                  [-1, 512]               0\n",
            "           Linear-26                  [-1, 512]         262,656\n",
            "             ReLU-27                  [-1, 512]               0\n",
            "           Linear-28                   [-1, 10]           5,130\n",
            "================================================================\n",
            "Total params: 9,750,922\n",
            "Trainable params: 9,750,922\n",
            "Non-trainable params: 0\n",
            "----------------------------------------------------------------\n",
            "Input size (MB): 0.01\n",
            "Forward/backward pass size (MB): 2.57\n",
            "Params size (MB): 37.20\n",
            "Estimated Total Size (MB): 39.78\n",
            "----------------------------------------------------------------\n"
          ]
        }
      ]
    },
    {
      "cell_type": "code",
      "source": [
        "for name, param in model.named_parameters():\n",
        "    if param.requires_grad:\n",
        "        print(name)"
      ],
      "metadata": {
        "colab": {
          "base_uri": "https://localhost:8080/"
        },
        "id": "kdrhZPrsJn0o",
        "outputId": "497fe281-a56f-466e-d769-7a4fb06a3f62"
      },
      "execution_count": null,
      "outputs": [
        {
          "output_type": "stream",
          "name": "stdout",
          "text": [
            "features.0.weight\n",
            "features.0.bias\n",
            "features.3.weight\n",
            "features.3.bias\n",
            "features.6.weight\n",
            "features.6.bias\n",
            "features.8.weight\n",
            "features.8.bias\n",
            "features.11.weight\n",
            "features.11.bias\n",
            "features.13.weight\n",
            "features.13.bias\n",
            "features.16.weight\n",
            "features.16.bias\n",
            "features.18.weight\n",
            "features.18.bias\n",
            "classifier.1.weight\n",
            "classifier.1.bias\n",
            "classifier.4.weight\n",
            "classifier.4.bias\n",
            "classifier.6.weight\n",
            "classifier.6.bias\n"
          ]
        }
      ]
    },
    {
      "cell_type": "code",
      "source": [
        "model = VGG(make_layers(vgg_cfg['vgg16'])).to(device)\n",
        "summary(model, input_size=(3, 32, 32))"
      ],
      "metadata": {
        "colab": {
          "base_uri": "https://localhost:8080/"
        },
        "id": "ZNOkaf8FIPi7",
        "outputId": "1fb51fb3-b864-4b15-bdf0-1b95b277bceb"
      },
      "execution_count": null,
      "outputs": [
        {
          "output_type": "stream",
          "name": "stdout",
          "text": [
            "----------------------------------------------------------------\n",
            "        Layer (type)               Output Shape         Param #\n",
            "================================================================\n",
            "            Conv2d-1           [-1, 64, 32, 32]           1,792\n",
            "              ReLU-2           [-1, 64, 32, 32]               0\n",
            "            Conv2d-3           [-1, 64, 32, 32]          36,928\n",
            "              ReLU-4           [-1, 64, 32, 32]               0\n",
            "         MaxPool2d-5           [-1, 64, 16, 16]               0\n",
            "            Conv2d-6          [-1, 128, 16, 16]          73,856\n",
            "              ReLU-7          [-1, 128, 16, 16]               0\n",
            "            Conv2d-8          [-1, 128, 16, 16]         147,584\n",
            "              ReLU-9          [-1, 128, 16, 16]               0\n",
            "        MaxPool2d-10            [-1, 128, 8, 8]               0\n",
            "           Conv2d-11            [-1, 256, 8, 8]         295,168\n",
            "             ReLU-12            [-1, 256, 8, 8]               0\n",
            "           Conv2d-13            [-1, 256, 8, 8]         590,080\n",
            "             ReLU-14            [-1, 256, 8, 8]               0\n",
            "           Conv2d-15            [-1, 256, 8, 8]         590,080\n",
            "             ReLU-16            [-1, 256, 8, 8]               0\n",
            "        MaxPool2d-17            [-1, 256, 4, 4]               0\n",
            "           Conv2d-18            [-1, 512, 4, 4]       1,180,160\n",
            "             ReLU-19            [-1, 512, 4, 4]               0\n",
            "           Conv2d-20            [-1, 512, 4, 4]       2,359,808\n",
            "             ReLU-21            [-1, 512, 4, 4]               0\n",
            "           Conv2d-22            [-1, 512, 4, 4]       2,359,808\n",
            "             ReLU-23            [-1, 512, 4, 4]               0\n",
            "        MaxPool2d-24            [-1, 512, 2, 2]               0\n",
            "           Conv2d-25            [-1, 512, 2, 2]       2,359,808\n",
            "             ReLU-26            [-1, 512, 2, 2]               0\n",
            "           Conv2d-27            [-1, 512, 2, 2]       2,359,808\n",
            "             ReLU-28            [-1, 512, 2, 2]               0\n",
            "           Conv2d-29            [-1, 512, 2, 2]       2,359,808\n",
            "             ReLU-30            [-1, 512, 2, 2]               0\n",
            "        MaxPool2d-31            [-1, 512, 1, 1]               0\n",
            "          Dropout-32                  [-1, 512]               0\n",
            "           Linear-33                  [-1, 512]         262,656\n",
            "             ReLU-34                  [-1, 512]               0\n",
            "          Dropout-35                  [-1, 512]               0\n",
            "           Linear-36                  [-1, 512]         262,656\n",
            "             ReLU-37                  [-1, 512]               0\n",
            "           Linear-38                   [-1, 10]           5,130\n",
            "================================================================\n",
            "Total params: 15,245,130\n",
            "Trainable params: 15,245,130\n",
            "Non-trainable params: 0\n",
            "----------------------------------------------------------------\n",
            "Input size (MB): 0.01\n",
            "Forward/backward pass size (MB): 4.48\n",
            "Params size (MB): 58.16\n",
            "Estimated Total Size (MB): 62.65\n",
            "----------------------------------------------------------------\n"
          ]
        }
      ]
    },
    {
      "cell_type": "code",
      "source": [
        "for name, param in model.named_parameters():\n",
        "    if param.requires_grad:\n",
        "        print(name)"
      ],
      "metadata": {
        "colab": {
          "base_uri": "https://localhost:8080/"
        },
        "id": "dov1R5FMJqba",
        "outputId": "4428c90f-80ca-4ebd-e448-97d4133c35a9"
      },
      "execution_count": null,
      "outputs": [
        {
          "output_type": "stream",
          "name": "stdout",
          "text": [
            "features.0.weight\n",
            "features.0.bias\n",
            "features.2.weight\n",
            "features.2.bias\n",
            "features.5.weight\n",
            "features.5.bias\n",
            "features.7.weight\n",
            "features.7.bias\n",
            "features.10.weight\n",
            "features.10.bias\n",
            "features.12.weight\n",
            "features.12.bias\n",
            "features.14.weight\n",
            "features.14.bias\n",
            "features.17.weight\n",
            "features.17.bias\n",
            "features.19.weight\n",
            "features.19.bias\n",
            "features.21.weight\n",
            "features.21.bias\n",
            "features.24.weight\n",
            "features.24.bias\n",
            "features.26.weight\n",
            "features.26.bias\n",
            "features.28.weight\n",
            "features.28.bias\n",
            "classifier.1.weight\n",
            "classifier.1.bias\n",
            "classifier.4.weight\n",
            "classifier.4.bias\n",
            "classifier.6.weight\n",
            "classifier.6.bias\n"
          ]
        }
      ]
    },
    {
      "cell_type": "code",
      "source": [
        "model = VGG(make_layers(vgg_cfg['vgg19'])).to(device)\n",
        "summary(model, input_size=(3, 32, 32))"
      ],
      "metadata": {
        "colab": {
          "base_uri": "https://localhost:8080/"
        },
        "id": "s5MYiY3CISHZ",
        "outputId": "605541c3-c910-4346-f710-3333456893a7"
      },
      "execution_count": null,
      "outputs": [
        {
          "output_type": "stream",
          "name": "stdout",
          "text": [
            "----------------------------------------------------------------\n",
            "        Layer (type)               Output Shape         Param #\n",
            "================================================================\n",
            "            Conv2d-1           [-1, 64, 32, 32]           1,792\n",
            "              ReLU-2           [-1, 64, 32, 32]               0\n",
            "            Conv2d-3           [-1, 64, 32, 32]          36,928\n",
            "              ReLU-4           [-1, 64, 32, 32]               0\n",
            "         MaxPool2d-5           [-1, 64, 16, 16]               0\n",
            "            Conv2d-6          [-1, 128, 16, 16]          73,856\n",
            "              ReLU-7          [-1, 128, 16, 16]               0\n",
            "            Conv2d-8          [-1, 128, 16, 16]         147,584\n",
            "              ReLU-9          [-1, 128, 16, 16]               0\n",
            "        MaxPool2d-10            [-1, 128, 8, 8]               0\n",
            "           Conv2d-11            [-1, 256, 8, 8]         295,168\n",
            "             ReLU-12            [-1, 256, 8, 8]               0\n",
            "           Conv2d-13            [-1, 256, 8, 8]         590,080\n",
            "             ReLU-14            [-1, 256, 8, 8]               0\n",
            "           Conv2d-15            [-1, 256, 8, 8]         590,080\n",
            "             ReLU-16            [-1, 256, 8, 8]               0\n",
            "           Conv2d-17            [-1, 256, 8, 8]         590,080\n",
            "             ReLU-18            [-1, 256, 8, 8]               0\n",
            "        MaxPool2d-19            [-1, 256, 4, 4]               0\n",
            "           Conv2d-20            [-1, 512, 4, 4]       1,180,160\n",
            "             ReLU-21            [-1, 512, 4, 4]               0\n",
            "           Conv2d-22            [-1, 512, 4, 4]       2,359,808\n",
            "             ReLU-23            [-1, 512, 4, 4]               0\n",
            "           Conv2d-24            [-1, 512, 4, 4]       2,359,808\n",
            "             ReLU-25            [-1, 512, 4, 4]               0\n",
            "           Conv2d-26            [-1, 512, 4, 4]       2,359,808\n",
            "             ReLU-27            [-1, 512, 4, 4]               0\n",
            "        MaxPool2d-28            [-1, 512, 2, 2]               0\n",
            "           Conv2d-29            [-1, 512, 2, 2]       2,359,808\n",
            "             ReLU-30            [-1, 512, 2, 2]               0\n",
            "           Conv2d-31            [-1, 512, 2, 2]       2,359,808\n",
            "             ReLU-32            [-1, 512, 2, 2]               0\n",
            "           Conv2d-33            [-1, 512, 2, 2]       2,359,808\n",
            "             ReLU-34            [-1, 512, 2, 2]               0\n",
            "           Conv2d-35            [-1, 512, 2, 2]       2,359,808\n",
            "             ReLU-36            [-1, 512, 2, 2]               0\n",
            "        MaxPool2d-37            [-1, 512, 1, 1]               0\n",
            "          Dropout-38                  [-1, 512]               0\n",
            "           Linear-39                  [-1, 512]         262,656\n",
            "             ReLU-40                  [-1, 512]               0\n",
            "          Dropout-41                  [-1, 512]               0\n",
            "           Linear-42                  [-1, 512]         262,656\n",
            "             ReLU-43                  [-1, 512]               0\n",
            "           Linear-44                   [-1, 10]           5,130\n",
            "================================================================\n",
            "Total params: 20,554,826\n",
            "Trainable params: 20,554,826\n",
            "Non-trainable params: 0\n",
            "----------------------------------------------------------------\n",
            "Input size (MB): 0.01\n",
            "Forward/backward pass size (MB): 4.89\n",
            "Params size (MB): 78.41\n",
            "Estimated Total Size (MB): 83.31\n",
            "----------------------------------------------------------------\n"
          ]
        }
      ]
    },
    {
      "cell_type": "code",
      "source": [
        "for name, param in model.named_parameters():\n",
        "    if param.requires_grad:\n",
        "        print(name)"
      ],
      "metadata": {
        "colab": {
          "base_uri": "https://localhost:8080/"
        },
        "id": "_9QdQYpsJrtC",
        "outputId": "46961d9a-d742-47c7-b4f0-e2b4f04f615f"
      },
      "execution_count": null,
      "outputs": [
        {
          "output_type": "stream",
          "name": "stdout",
          "text": [
            "features.0.weight\n",
            "features.0.bias\n",
            "features.2.weight\n",
            "features.2.bias\n",
            "features.5.weight\n",
            "features.5.bias\n",
            "features.7.weight\n",
            "features.7.bias\n",
            "features.10.weight\n",
            "features.10.bias\n",
            "features.12.weight\n",
            "features.12.bias\n",
            "features.14.weight\n",
            "features.14.bias\n",
            "features.16.weight\n",
            "features.16.bias\n",
            "features.19.weight\n",
            "features.19.bias\n",
            "features.21.weight\n",
            "features.21.bias\n",
            "features.23.weight\n",
            "features.23.bias\n",
            "features.25.weight\n",
            "features.25.bias\n",
            "features.28.weight\n",
            "features.28.bias\n",
            "features.30.weight\n",
            "features.30.bias\n",
            "features.32.weight\n",
            "features.32.bias\n",
            "features.34.weight\n",
            "features.34.bias\n",
            "classifier.1.weight\n",
            "classifier.1.bias\n",
            "classifier.4.weight\n",
            "classifier.4.bias\n",
            "classifier.6.weight\n",
            "classifier.6.bias\n"
          ]
        }
      ]
    },
    {
      "cell_type": "code",
      "source": [
        "model = VGG(make_layers(vgg_cfg['vgg22'])).to(device)\n",
        "summary(model, input_size=(3, 32, 32))"
      ],
      "metadata": {
        "colab": {
          "base_uri": "https://localhost:8080/"
        },
        "id": "Bab5pmgVIVPy",
        "outputId": "957b587a-b20f-4dbd-eef8-de286a6377f8"
      },
      "execution_count": null,
      "outputs": [
        {
          "output_type": "stream",
          "name": "stdout",
          "text": [
            "----------------------------------------------------------------\n",
            "        Layer (type)               Output Shape         Param #\n",
            "================================================================\n",
            "            Conv2d-1           [-1, 64, 32, 32]           1,792\n",
            "              ReLU-2           [-1, 64, 32, 32]               0\n",
            "            Conv2d-3           [-1, 64, 32, 32]          36,928\n",
            "              ReLU-4           [-1, 64, 32, 32]               0\n",
            "         MaxPool2d-5           [-1, 64, 16, 16]               0\n",
            "            Conv2d-6          [-1, 128, 16, 16]          73,856\n",
            "              ReLU-7          [-1, 128, 16, 16]               0\n",
            "            Conv2d-8          [-1, 128, 16, 16]         147,584\n",
            "              ReLU-9          [-1, 128, 16, 16]               0\n",
            "        MaxPool2d-10            [-1, 128, 8, 8]               0\n",
            "           Conv2d-11            [-1, 256, 8, 8]         295,168\n",
            "             ReLU-12            [-1, 256, 8, 8]               0\n",
            "           Conv2d-13            [-1, 256, 8, 8]         590,080\n",
            "             ReLU-14            [-1, 256, 8, 8]               0\n",
            "           Conv2d-15            [-1, 256, 8, 8]         590,080\n",
            "             ReLU-16            [-1, 256, 8, 8]               0\n",
            "           Conv2d-17            [-1, 256, 8, 8]         590,080\n",
            "             ReLU-18            [-1, 256, 8, 8]               0\n",
            "           Conv2d-19            [-1, 256, 8, 8]         590,080\n",
            "             ReLU-20            [-1, 256, 8, 8]               0\n",
            "        MaxPool2d-21            [-1, 256, 4, 4]               0\n",
            "           Conv2d-22            [-1, 512, 4, 4]       1,180,160\n",
            "             ReLU-23            [-1, 512, 4, 4]               0\n",
            "           Conv2d-24            [-1, 512, 4, 4]       2,359,808\n",
            "             ReLU-25            [-1, 512, 4, 4]               0\n",
            "           Conv2d-26            [-1, 512, 4, 4]       2,359,808\n",
            "             ReLU-27            [-1, 512, 4, 4]               0\n",
            "           Conv2d-28            [-1, 512, 4, 4]       2,359,808\n",
            "             ReLU-29            [-1, 512, 4, 4]               0\n",
            "           Conv2d-30            [-1, 512, 4, 4]       2,359,808\n",
            "             ReLU-31            [-1, 512, 4, 4]               0\n",
            "        MaxPool2d-32            [-1, 512, 2, 2]               0\n",
            "           Conv2d-33            [-1, 512, 2, 2]       2,359,808\n",
            "             ReLU-34            [-1, 512, 2, 2]               0\n",
            "           Conv2d-35            [-1, 512, 2, 2]       2,359,808\n",
            "             ReLU-36            [-1, 512, 2, 2]               0\n",
            "           Conv2d-37            [-1, 512, 2, 2]       2,359,808\n",
            "             ReLU-38            [-1, 512, 2, 2]               0\n",
            "           Conv2d-39            [-1, 512, 2, 2]       2,359,808\n",
            "             ReLU-40            [-1, 512, 2, 2]               0\n",
            "           Conv2d-41            [-1, 512, 2, 2]       2,359,808\n",
            "             ReLU-42            [-1, 512, 2, 2]               0\n",
            "        MaxPool2d-43            [-1, 512, 1, 1]               0\n",
            "          Dropout-44                  [-1, 512]               0\n",
            "           Linear-45                  [-1, 512]         262,656\n",
            "             ReLU-46                  [-1, 512]               0\n",
            "          Dropout-47                  [-1, 512]               0\n",
            "           Linear-48                  [-1, 512]         262,656\n",
            "             ReLU-49                  [-1, 512]               0\n",
            "           Linear-50                   [-1, 10]           5,130\n",
            "================================================================\n",
            "Total params: 25,864,522\n",
            "Trainable params: 25,864,522\n",
            "Non-trainable params: 0\n",
            "----------------------------------------------------------------\n",
            "Input size (MB): 0.01\n",
            "Forward/backward pass size (MB): 5.29\n",
            "Params size (MB): 98.67\n",
            "Estimated Total Size (MB): 103.97\n",
            "----------------------------------------------------------------\n"
          ]
        }
      ]
    },
    {
      "cell_type": "code",
      "source": [
        "for name, param in model.named_parameters():\n",
        "    if param.requires_grad:\n",
        "        print(name)"
      ],
      "metadata": {
        "colab": {
          "base_uri": "https://localhost:8080/"
        },
        "id": "Gc-B5Y5uIWCl",
        "outputId": "a53816c4-a801-41ec-ab3e-ac576389128b"
      },
      "execution_count": null,
      "outputs": [
        {
          "output_type": "stream",
          "name": "stdout",
          "text": [
            "features.0.weight\n",
            "features.0.bias\n",
            "features.2.weight\n",
            "features.2.bias\n",
            "features.5.weight\n",
            "features.5.bias\n",
            "features.7.weight\n",
            "features.7.bias\n",
            "features.10.weight\n",
            "features.10.bias\n",
            "features.12.weight\n",
            "features.12.bias\n",
            "features.14.weight\n",
            "features.14.bias\n",
            "features.16.weight\n",
            "features.16.bias\n",
            "features.18.weight\n",
            "features.18.bias\n",
            "features.21.weight\n",
            "features.21.bias\n",
            "features.23.weight\n",
            "features.23.bias\n",
            "features.25.weight\n",
            "features.25.bias\n",
            "features.27.weight\n",
            "features.27.bias\n",
            "features.29.weight\n",
            "features.29.bias\n",
            "features.32.weight\n",
            "features.32.bias\n",
            "features.34.weight\n",
            "features.34.bias\n",
            "features.36.weight\n",
            "features.36.bias\n",
            "features.38.weight\n",
            "features.38.bias\n",
            "features.40.weight\n",
            "features.40.bias\n",
            "classifier.1.weight\n",
            "classifier.1.bias\n",
            "classifier.4.weight\n",
            "classifier.4.bias\n",
            "classifier.6.weight\n",
            "classifier.6.bias\n"
          ]
        }
      ]
    },
    {
      "cell_type": "code",
      "source": [
        "model = ResNet18().to(device)\n",
        "summary(model, input_size=(3, 32, 32))"
      ],
      "metadata": {
        "colab": {
          "base_uri": "https://localhost:8080/"
        },
        "id": "-Ej6JQbOKxMn",
        "outputId": "ca9b7f06-b810-44f6-ea13-46b10fb8d4ec"
      },
      "execution_count": null,
      "outputs": [
        {
          "output_type": "stream",
          "name": "stdout",
          "text": [
            "----------------------------------------------------------------\n",
            "        Layer (type)               Output Shape         Param #\n",
            "================================================================\n",
            "            Conv2d-1           [-1, 64, 32, 32]           1,728\n",
            "       BatchNorm2d-2           [-1, 64, 32, 32]             128\n",
            "            Conv2d-3           [-1, 64, 32, 32]          36,864\n",
            "       BatchNorm2d-4           [-1, 64, 32, 32]             128\n",
            "            Conv2d-5           [-1, 64, 32, 32]          36,864\n",
            "       BatchNorm2d-6           [-1, 64, 32, 32]             128\n",
            "        BasicBlock-7           [-1, 64, 32, 32]               0\n",
            "            Conv2d-8           [-1, 64, 32, 32]          36,864\n",
            "       BatchNorm2d-9           [-1, 64, 32, 32]             128\n",
            "           Conv2d-10           [-1, 64, 32, 32]          36,864\n",
            "      BatchNorm2d-11           [-1, 64, 32, 32]             128\n",
            "       BasicBlock-12           [-1, 64, 32, 32]               0\n",
            "           Conv2d-13          [-1, 128, 16, 16]          73,728\n",
            "      BatchNorm2d-14          [-1, 128, 16, 16]             256\n",
            "           Conv2d-15          [-1, 128, 16, 16]         147,456\n",
            "      BatchNorm2d-16          [-1, 128, 16, 16]             256\n",
            "           Conv2d-17          [-1, 128, 16, 16]           8,192\n",
            "      BatchNorm2d-18          [-1, 128, 16, 16]             256\n",
            "       BasicBlock-19          [-1, 128, 16, 16]               0\n",
            "           Conv2d-20          [-1, 128, 16, 16]         147,456\n",
            "      BatchNorm2d-21          [-1, 128, 16, 16]             256\n",
            "           Conv2d-22          [-1, 128, 16, 16]         147,456\n",
            "      BatchNorm2d-23          [-1, 128, 16, 16]             256\n",
            "       BasicBlock-24          [-1, 128, 16, 16]               0\n",
            "           Conv2d-25            [-1, 256, 8, 8]         294,912\n",
            "      BatchNorm2d-26            [-1, 256, 8, 8]             512\n",
            "           Conv2d-27            [-1, 256, 8, 8]         589,824\n",
            "      BatchNorm2d-28            [-1, 256, 8, 8]             512\n",
            "           Conv2d-29            [-1, 256, 8, 8]          32,768\n",
            "      BatchNorm2d-30            [-1, 256, 8, 8]             512\n",
            "       BasicBlock-31            [-1, 256, 8, 8]               0\n",
            "           Conv2d-32            [-1, 256, 8, 8]         589,824\n",
            "      BatchNorm2d-33            [-1, 256, 8, 8]             512\n",
            "           Conv2d-34            [-1, 256, 8, 8]         589,824\n",
            "      BatchNorm2d-35            [-1, 256, 8, 8]             512\n",
            "       BasicBlock-36            [-1, 256, 8, 8]               0\n",
            "           Conv2d-37            [-1, 512, 4, 4]       1,179,648\n",
            "      BatchNorm2d-38            [-1, 512, 4, 4]           1,024\n",
            "           Conv2d-39            [-1, 512, 4, 4]       2,359,296\n",
            "      BatchNorm2d-40            [-1, 512, 4, 4]           1,024\n",
            "           Conv2d-41            [-1, 512, 4, 4]         131,072\n",
            "      BatchNorm2d-42            [-1, 512, 4, 4]           1,024\n",
            "       BasicBlock-43            [-1, 512, 4, 4]               0\n",
            "           Conv2d-44            [-1, 512, 4, 4]       2,359,296\n",
            "      BatchNorm2d-45            [-1, 512, 4, 4]           1,024\n",
            "           Conv2d-46            [-1, 512, 4, 4]       2,359,296\n",
            "      BatchNorm2d-47            [-1, 512, 4, 4]           1,024\n",
            "       BasicBlock-48            [-1, 512, 4, 4]               0\n",
            "           Linear-49                   [-1, 10]           5,130\n",
            "================================================================\n",
            "Total params: 11,173,962\n",
            "Trainable params: 11,173,962\n",
            "Non-trainable params: 0\n",
            "----------------------------------------------------------------\n",
            "Input size (MB): 0.01\n",
            "Forward/backward pass size (MB): 11.25\n",
            "Params size (MB): 42.63\n",
            "Estimated Total Size (MB): 53.89\n",
            "----------------------------------------------------------------\n"
          ]
        }
      ]
    },
    {
      "cell_type": "code",
      "source": [
        "model = ResNet34().to(device)\n",
        "summary(model, input_size=(3, 32, 32))"
      ],
      "metadata": {
        "colab": {
          "base_uri": "https://localhost:8080/"
        },
        "id": "w4_cU-syK1Dh",
        "outputId": "1b870301-8c8c-4c5b-953b-084d563d14bd"
      },
      "execution_count": null,
      "outputs": [
        {
          "output_type": "stream",
          "name": "stdout",
          "text": [
            "----------------------------------------------------------------\n",
            "        Layer (type)               Output Shape         Param #\n",
            "================================================================\n",
            "            Conv2d-1           [-1, 64, 32, 32]           1,728\n",
            "       BatchNorm2d-2           [-1, 64, 32, 32]             128\n",
            "            Conv2d-3           [-1, 64, 32, 32]          36,864\n",
            "       BatchNorm2d-4           [-1, 64, 32, 32]             128\n",
            "            Conv2d-5           [-1, 64, 32, 32]          36,864\n",
            "       BatchNorm2d-6           [-1, 64, 32, 32]             128\n",
            "        BasicBlock-7           [-1, 64, 32, 32]               0\n",
            "            Conv2d-8           [-1, 64, 32, 32]          36,864\n",
            "       BatchNorm2d-9           [-1, 64, 32, 32]             128\n",
            "           Conv2d-10           [-1, 64, 32, 32]          36,864\n",
            "      BatchNorm2d-11           [-1, 64, 32, 32]             128\n",
            "       BasicBlock-12           [-1, 64, 32, 32]               0\n",
            "           Conv2d-13           [-1, 64, 32, 32]          36,864\n",
            "      BatchNorm2d-14           [-1, 64, 32, 32]             128\n",
            "           Conv2d-15           [-1, 64, 32, 32]          36,864\n",
            "      BatchNorm2d-16           [-1, 64, 32, 32]             128\n",
            "       BasicBlock-17           [-1, 64, 32, 32]               0\n",
            "           Conv2d-18          [-1, 128, 16, 16]          73,728\n",
            "      BatchNorm2d-19          [-1, 128, 16, 16]             256\n",
            "           Conv2d-20          [-1, 128, 16, 16]         147,456\n",
            "      BatchNorm2d-21          [-1, 128, 16, 16]             256\n",
            "           Conv2d-22          [-1, 128, 16, 16]           8,192\n",
            "      BatchNorm2d-23          [-1, 128, 16, 16]             256\n",
            "       BasicBlock-24          [-1, 128, 16, 16]               0\n",
            "           Conv2d-25          [-1, 128, 16, 16]         147,456\n",
            "      BatchNorm2d-26          [-1, 128, 16, 16]             256\n",
            "           Conv2d-27          [-1, 128, 16, 16]         147,456\n",
            "      BatchNorm2d-28          [-1, 128, 16, 16]             256\n",
            "       BasicBlock-29          [-1, 128, 16, 16]               0\n",
            "           Conv2d-30          [-1, 128, 16, 16]         147,456\n",
            "      BatchNorm2d-31          [-1, 128, 16, 16]             256\n",
            "           Conv2d-32          [-1, 128, 16, 16]         147,456\n",
            "      BatchNorm2d-33          [-1, 128, 16, 16]             256\n",
            "       BasicBlock-34          [-1, 128, 16, 16]               0\n",
            "           Conv2d-35          [-1, 128, 16, 16]         147,456\n",
            "      BatchNorm2d-36          [-1, 128, 16, 16]             256\n",
            "           Conv2d-37          [-1, 128, 16, 16]         147,456\n",
            "      BatchNorm2d-38          [-1, 128, 16, 16]             256\n",
            "       BasicBlock-39          [-1, 128, 16, 16]               0\n",
            "           Conv2d-40            [-1, 256, 8, 8]         294,912\n",
            "      BatchNorm2d-41            [-1, 256, 8, 8]             512\n",
            "           Conv2d-42            [-1, 256, 8, 8]         589,824\n",
            "      BatchNorm2d-43            [-1, 256, 8, 8]             512\n",
            "           Conv2d-44            [-1, 256, 8, 8]          32,768\n",
            "      BatchNorm2d-45            [-1, 256, 8, 8]             512\n",
            "       BasicBlock-46            [-1, 256, 8, 8]               0\n",
            "           Conv2d-47            [-1, 256, 8, 8]         589,824\n",
            "      BatchNorm2d-48            [-1, 256, 8, 8]             512\n",
            "           Conv2d-49            [-1, 256, 8, 8]         589,824\n",
            "      BatchNorm2d-50            [-1, 256, 8, 8]             512\n",
            "       BasicBlock-51            [-1, 256, 8, 8]               0\n",
            "           Conv2d-52            [-1, 256, 8, 8]         589,824\n",
            "      BatchNorm2d-53            [-1, 256, 8, 8]             512\n",
            "           Conv2d-54            [-1, 256, 8, 8]         589,824\n",
            "      BatchNorm2d-55            [-1, 256, 8, 8]             512\n",
            "       BasicBlock-56            [-1, 256, 8, 8]               0\n",
            "           Conv2d-57            [-1, 256, 8, 8]         589,824\n",
            "      BatchNorm2d-58            [-1, 256, 8, 8]             512\n",
            "           Conv2d-59            [-1, 256, 8, 8]         589,824\n",
            "      BatchNorm2d-60            [-1, 256, 8, 8]             512\n",
            "       BasicBlock-61            [-1, 256, 8, 8]               0\n",
            "           Conv2d-62            [-1, 256, 8, 8]         589,824\n",
            "      BatchNorm2d-63            [-1, 256, 8, 8]             512\n",
            "           Conv2d-64            [-1, 256, 8, 8]         589,824\n",
            "      BatchNorm2d-65            [-1, 256, 8, 8]             512\n",
            "       BasicBlock-66            [-1, 256, 8, 8]               0\n",
            "           Conv2d-67            [-1, 256, 8, 8]         589,824\n",
            "      BatchNorm2d-68            [-1, 256, 8, 8]             512\n",
            "           Conv2d-69            [-1, 256, 8, 8]         589,824\n",
            "      BatchNorm2d-70            [-1, 256, 8, 8]             512\n",
            "       BasicBlock-71            [-1, 256, 8, 8]               0\n",
            "           Conv2d-72            [-1, 512, 4, 4]       1,179,648\n",
            "      BatchNorm2d-73            [-1, 512, 4, 4]           1,024\n",
            "           Conv2d-74            [-1, 512, 4, 4]       2,359,296\n",
            "      BatchNorm2d-75            [-1, 512, 4, 4]           1,024\n",
            "           Conv2d-76            [-1, 512, 4, 4]         131,072\n",
            "      BatchNorm2d-77            [-1, 512, 4, 4]           1,024\n",
            "       BasicBlock-78            [-1, 512, 4, 4]               0\n",
            "           Conv2d-79            [-1, 512, 4, 4]       2,359,296\n",
            "      BatchNorm2d-80            [-1, 512, 4, 4]           1,024\n",
            "           Conv2d-81            [-1, 512, 4, 4]       2,359,296\n",
            "      BatchNorm2d-82            [-1, 512, 4, 4]           1,024\n",
            "       BasicBlock-83            [-1, 512, 4, 4]               0\n",
            "           Conv2d-84            [-1, 512, 4, 4]       2,359,296\n",
            "      BatchNorm2d-85            [-1, 512, 4, 4]           1,024\n",
            "           Conv2d-86            [-1, 512, 4, 4]       2,359,296\n",
            "      BatchNorm2d-87            [-1, 512, 4, 4]           1,024\n",
            "       BasicBlock-88            [-1, 512, 4, 4]               0\n",
            "           Linear-89                   [-1, 10]           5,130\n",
            "================================================================\n",
            "Total params: 21,282,122\n",
            "Trainable params: 21,282,122\n",
            "Non-trainable params: 0\n",
            "----------------------------------------------------------------\n",
            "Input size (MB): 0.01\n",
            "Forward/backward pass size (MB): 19.06\n",
            "Params size (MB): 81.18\n",
            "Estimated Total Size (MB): 100.26\n",
            "----------------------------------------------------------------\n"
          ]
        }
      ]
    }
  ]
}